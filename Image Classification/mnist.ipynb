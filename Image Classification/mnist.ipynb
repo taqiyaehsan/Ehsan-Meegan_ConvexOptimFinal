{
 "cells": [
  {
   "cell_type": "markdown",
   "metadata": {},
   "source": [
    "### Import libraries and declare dependencies "
   ]
  },
  {
   "cell_type": "code",
   "execution_count": 1,
   "metadata": {},
   "outputs": [],
   "source": [
    "import torch\n",
    "import torchvision\n",
    "import torch.nn as nn\n",
    "import torch.optim as optim\n",
    "from torch.utils.data import Subset\n",
    "from torch.utils.data import DataLoader\n",
    "import torchvision.transforms as transforms\n",
    "from torch.optim.optimizer import Optimizer, required\n",
    "\n",
    "import matplotlib.pyplot as plt\n",
    "import numpy as np\n",
    "import math\n",
    "\n",
    "import tqdm as tqdm"
   ]
  },
  {
   "cell_type": "code",
   "execution_count": 2,
   "metadata": {},
   "outputs": [
    {
     "name": "stdout",
     "output_type": "stream",
     "text": [
      "Device: mps\n"
     ]
    }
   ],
   "source": [
    "device = torch.device(\"mps\" if torch.backends.mps.is_available() else \"cpu\")\n",
    "print(f\"Device: {device}\")"
   ]
  },
  {
   "cell_type": "code",
   "execution_count": 3,
   "metadata": {},
   "outputs": [
    {
     "data": {
      "text/plain": [
       "<torch._C.Generator at 0x7ff37098ca70>"
      ]
     },
     "execution_count": 3,
     "metadata": {},
     "output_type": "execute_result"
    }
   ],
   "source": [
    "torch.manual_seed(22)"
   ]
  },
  {
   "cell_type": "markdown",
   "metadata": {},
   "source": [
    "### Dataset and EDA"
   ]
  },
  {
   "cell_type": "code",
   "execution_count": 4,
   "metadata": {},
   "outputs": [],
   "source": [
    "# Load MNIST dataset\n",
    "transform = transforms.Compose([transforms.ToTensor(), transforms.Normalize((0.5,), (0.5,))])\n",
    "trainset = torchvision.datasets.MNIST(root='./data', train=True, download=True, transform=transform)\n",
    "testset = torchvision.datasets.MNIST(root='./data', train=False, download=True, transform=transform)\n",
    "\n",
    "train_size = int(0.8 * len(trainset))\n",
    "\n",
    "# Create indices for the split\n",
    "indices = list(range(len(trainset)))\n",
    "train_indices = indices[:train_size]\n",
    "val_indices = indices[train_size:]\n",
    "\n",
    "# Create subset data loaders\n",
    "train_data = Subset(trainset, train_indices)\n",
    "val_data = Subset(trainset, val_indices)\n",
    "\n",
    "trainloader = DataLoader(trainset, batch_size=32, shuffle=True)\n",
    "valloader = DataLoader(val_data, batch_size=128, shuffle=False)\n",
    "testloader = DataLoader(testset, batch_size=32, shuffle=False)"
   ]
  },
  {
   "cell_type": "code",
   "execution_count": 5,
   "metadata": {},
   "outputs": [
    {
     "data": {
      "image/png": "[encoded data removed]",
      "text/plain": [
       "<Figure size 1000x500 with 10 Axes>"
      ]
     },
     "metadata": {},
     "output_type": "display_data"
    }
   ],
   "source": [
    "label_images = {}\n",
    "\n",
    "for i in range(len(testset)):\n",
    "    image, label = testset[i]\n",
    "    if label not in label_images:\n",
    "        label_images[label] = image\n",
    "        if len(label_images) == 10:\n",
    "            break\n",
    "\n",
    "plt.figure(figsize=(10, 5))\n",
    "for label, image in label_images.items():\n",
    "    plt.subplot(2, 5, label + 1)\n",
    "    plt.imshow(image.squeeze(), cmap='gray')\n",
    "    plt.title(f'Label: {label}')\n",
    "    plt.axis('off')\n",
    "\n",
    "plt.tight_layout()\n",
    "plt.show();"
   ]
  },
  {
   "cell_type": "markdown",
   "metadata": {},
   "source": [
    "### Define Custom Optimizers"
   ]
  },
  {
   "cell_type": "code",
   "execution_count": 27,
   "metadata": {},
   "outputs": [],
   "source": [
    "# NAG Optimizer\n",
    "class NAG(Optimizer):\n",
    "    def __init__(self, params, lr=required, momentum=0, weight_decay=0):\n",
    "        defaults = dict(lr=lr, lr_old=lr, momentum=momentum, weight_decay=weight_decay)\n",
    "        super(NAG, self).__init__(params, defaults)\n",
    "\n",
    "    @property\n",
    "    def supports_memory_efficient_fp16(self):\n",
    "        return True\n",
    "\n",
    "    @property\n",
    "    def supports_flat_params(self):\n",
    "        return True\n",
    "\n",
    "    def step(self, closure=None):\n",
    "        \"\"\"Performs a single optimization step.\n",
    "\n",
    "        Args:\n",
    "            closure (callable, optional): A closure that reevaluates the model\n",
    "                and returns the loss.\n",
    "        \"\"\"\n",
    "        loss = None\n",
    "        if closure is not None:\n",
    "            loss = closure()\n",
    "\n",
    "        for group in self.param_groups:\n",
    "            weight_decay = group[\"weight_decay\"]\n",
    "            momentum = group[\"momentum\"]\n",
    "            lr = group[\"lr\"]\n",
    "            lr_old = group.get(\"lr_old\", lr)\n",
    "            lr_correct = lr / lr_old if lr_old > 0 else lr\n",
    "\n",
    "            for p in group[\"params\"]:\n",
    "                if p.grad is None:\n",
    "                    continue\n",
    "\n",
    "                p_data_fp32 = p.data\n",
    "                if p_data_fp32.dtype in {torch.float16, torch.bfloat16}:\n",
    "                    p_data_fp32 = p_data_fp32.float()\n",
    "\n",
    "                d_p = p.grad.data.float()\n",
    "                param_state = self.state[p]\n",
    "                if \"momentum_buffer\" not in param_state:\n",
    "                    param_state[\"momentum_buffer\"] = torch.zeros_like(d_p)\n",
    "                else:\n",
    "                    param_state[\"momentum_buffer\"] = param_state[\"momentum_buffer\"].to(\n",
    "                        d_p\n",
    "                    )\n",
    "\n",
    "                buf = param_state[\"momentum_buffer\"]\n",
    "\n",
    "                if weight_decay != 0:\n",
    "                    p_data_fp32.mul_(1 - lr * weight_decay)\n",
    "                p_data_fp32.add_(buf, alpha=momentum * momentum * lr_correct)\n",
    "                p_data_fp32.add_(d_p, alpha=-(1 + momentum) * lr)\n",
    "\n",
    "                buf.mul_(momentum * lr_correct).add_(d_p, alpha=-lr)\n",
    "\n",
    "                if p.data.dtype in {torch.float16, torch.bfloat16}:\n",
    "                    p.data.copy_(p_data_fp32)\n",
    "\n",
    "            group[\"lr_old\"] = lr\n",
    "\n",
    "        return loss"
   ]
  },
  {
   "cell_type": "code",
   "execution_count": 11,
   "metadata": {},
   "outputs": [],
   "source": [
    "# ProxSG\n",
    "class ProxSG(Optimizer):\n",
    "    def __init__(self, params, lr=required, lambda_=required):\n",
    "        if lr is not required and lr < 0.0:\n",
    "            raise ValueError(\"Invalid learning rate: {}\".format(lr))\n",
    "\n",
    "        if lambda_ is not required and lambda_ < 0.0:\n",
    "            raise ValueError(\"Invalid lambda: {}\".format(lambda_))\n",
    "\n",
    "        defaults = dict(lr=lr, lambda_=lambda_)\n",
    "        super(ProxSG, self).__init__(params, defaults)\n",
    "\n",
    "    def calculate_d(self, x, grad_f, lambda_, lr):\n",
    "        '''\n",
    "            Calculate d for Omega(x) = ||x||_1\n",
    "        '''\n",
    "        trial_x = torch.zeros_like(x)\n",
    "        pos_shrink = x - lr * grad_f - lr * \\\n",
    "            lambda_  # new x is larger than lr * lambda_\n",
    "        neg_shrink = x - lr * grad_f + lr * \\\n",
    "            lambda_  # new x is less than -lr * lambda_\n",
    "        pos_shrink_idx = (pos_shrink > 0)\n",
    "        neg_shrink_idx = (neg_shrink < 0)\n",
    "        trial_x[pos_shrink_idx] = pos_shrink[pos_shrink_idx]\n",
    "        trial_x[neg_shrink_idx] = neg_shrink[neg_shrink_idx]\n",
    "        d = trial_x - x\n",
    "\n",
    "        return d\n",
    "\n",
    "    def step(self, closure=None):\n",
    "\n",
    "        loss = None\n",
    "        if closure is not None:\n",
    "            loss = closure()\n",
    "\n",
    "        for group in self.param_groups:\n",
    "\n",
    "            for p in group['params']:\n",
    "                if p.grad is None:\n",
    "                    continue\n",
    "                grad_f = p.grad.data\n",
    "\n",
    "                if len(p.shape) > 1:  # weights\n",
    "                    s = self.calculate_d(\n",
    "                        p.data, grad_f, group['lambda_'], group['lr'])\n",
    "                    p.data.add_(s, alpha=1)\n",
    "                else:  # bias\n",
    "                    p.data.add_(grad_f, alpha=-group['lr'])\n",
    "        return loss"
   ]
  },
  {
   "cell_type": "code",
   "execution_count": 12,
   "metadata": {},
   "outputs": [],
   "source": [
    "# SVRG Optimizer\n",
    "class SVRG(Optimizer):\n",
    "    r\"\"\" implement SVRG \"\"\" \n",
    "\n",
    "    def __init__(self, params, lr=required, freq =10):\n",
    "        if lr is not required and lr < 0.0:\n",
    "            raise ValueError(\"Invalid learning rate: {}\".format(lr))\n",
    "\n",
    "        defaults = dict(lr=lr, freq=freq)\n",
    "        self.counter = 0\n",
    "        self.counter2 = 0\n",
    "        self.flag = False\n",
    "        super(SVRG, self).__init__(params, defaults)\n",
    "\n",
    "    def __setstate__(self, state):\n",
    "        super(SVRG, self).__setstate__(state)\n",
    "        # for group in self.param_groups:\n",
    "        #     group.setdefault('m', )\n",
    "\n",
    "    def step(self, closure=None):\n",
    "        \"\"\"Performs a single optimization step.\n",
    "\n",
    "        Arguments:\n",
    "            closure (callable, optional): A closure that reevaluates the model\n",
    "                and returns the loss.\n",
    "        \"\"\"\n",
    "        loss = None\n",
    "        if closure is not None:\n",
    "            loss = closure()\n",
    "\n",
    "        for group in self.param_groups:\n",
    "            freq = group['freq']\n",
    "            for p in group['params']:\n",
    "                if p.grad is None:\n",
    "                    continue\n",
    "                d_p = p.grad.data\n",
    "                param_state = self.state[p]\n",
    "                \n",
    "                if 'large_batch' not in param_state:\n",
    "                    buf = param_state['large_batch'] = torch.zeros_like(p.data)\n",
    "                    buf.add_(d_p) #add first large, low variance batch\n",
    "                    #need to add the second term in the step equation; the gradient for the original step!\n",
    "                    buf2 = param_state['small_batch'] = torch.zeros_like(p.data)\n",
    "\n",
    "                buf = param_state['large_batch']\n",
    "                buf2 = param_state['small_batch']\n",
    "\n",
    "                if self.counter == freq:\n",
    "                    buf.data = d_p.clone() #copy new large batch. Begining of new inner loop\n",
    "                    temp = torch.zeros_like(p.data)\n",
    "                    buf2.data = temp.clone()\n",
    "                    \n",
    "                if self.counter2 == 1:\n",
    "                    buf2.data.add_(d_p) #first small batch gradient for inner loop!\n",
    "\n",
    "                #dont update parameters when computing large batch (low variance gradients)\n",
    "                if self.counter != freq and self.flag != False:\n",
    "                    p.data.add_((d_p - buf2 + buf), alpha=-group['lr'])\n",
    "\n",
    "        self.flag = True #rough way of not updating the weights the FIRST time we calculate the large batch gradient\n",
    "        \n",
    "        if self.counter == freq:\n",
    "            self.counter = 0\n",
    "            self.counter2 = 0\n",
    "\n",
    "        self.counter += 1    \n",
    "        self.counter2 += 1\n",
    "\n",
    "        return loss"
   ]
  },
  {
   "cell_type": "code",
   "execution_count": 14,
   "metadata": {},
   "outputs": [],
   "source": [
    "class Prodigy(Optimizer):\n",
    "    r\"\"\"\n",
    "    Implements Adam with Prodigy step-sizes.\n",
    "    Leave LR set to 1 unless you encounter instability.\n",
    "   \n",
    "    Arguments:\n",
    "        params (iterable):\n",
    "            Iterable of parameters to optimize or dicts defining parameter groups.\n",
    "        lr (float):\n",
    "            Learning rate adjustment parameter. Increases or decreases the Prodigy learning rate.\n",
    "        betas (Tuple[float, float], optional): coefficients used for computing\n",
    "            running averages of gradient and its square (default: (0.9, 0.999))\n",
    "        beta3 (float):\n",
    "            coefficients for computing the Prodidy stepsize using running averages.\n",
    "            If set to None, uses the value of square root of beta2 (default: None).\n",
    "        eps (float):\n",
    "            Term added to the denominator outside of the root operation to improve numerical stability. (default: 1e-8).\n",
    "        weight_decay (float):\n",
    "            Weight decay, i.e. a L2 penalty (default: 0).\n",
    "        decouple (boolean):\n",
    "            Use AdamW style decoupled weight decay\n",
    "        use_bias_correction (boolean):\n",
    "            Turn on Adam's bias correction. Off by default.\n",
    "        safeguard_warmup (boolean):\n",
    "            Remove lr from the denominator of D estimate to avoid issues during warm-up stage. Off by default.\n",
    "        d0 (float):\n",
    "            Initial D estimate for D-adaptation (default 1e-6). Rarely needs changing.\n",
    "        d_coef (float):\n",
    "            Coefficient in the expression for the estimate of d (default 1.0).\n",
    "            Values such as 0.5 and 2.0 typically work as well. \n",
    "            Changing this parameter is the preferred way to tune the method.\n",
    "        growth_rate (float):\n",
    "            prevent the D estimate from growing faster than this multiplicative rate.\n",
    "            Default is inf, for unrestricted. Values like 1.02 give a kind of learning\n",
    "            rate warmup effect.\n",
    "        fsdp_in_use (bool):\n",
    "            If you're using sharded parameters, this should be set to True. The optimizer\n",
    "            will attempt to auto-detect this, but if you're using an implementation other\n",
    "            than PyTorch's builtin version, the auto-detection won't work.\n",
    "    \"\"\"\n",
    "    def __init__(self, params, lr=1.0,\n",
    "                 betas=(0.9, 0.999), beta3=None,\n",
    "                 eps=1e-8, weight_decay=0, decouple=True, \n",
    "                 use_bias_correction=False, safeguard_warmup=False,\n",
    "                 d0=1e-6, d_coef=1.0, growth_rate=float('inf'),\n",
    "                 fsdp_in_use=False):\n",
    "        if not 0.0 < d0:\n",
    "            raise ValueError(\"Invalid d0 value: {}\".format(d0))\n",
    "        if not 0.0 < lr:\n",
    "            raise ValueError(\"Invalid learning rate: {}\".format(lr))\n",
    "        if not 0.0 < eps:\n",
    "            raise ValueError(\"Invalid epsilon value: {}\".format(eps))\n",
    "        if not 0.0 <= betas[0] < 1.0:\n",
    "            raise ValueError(\"Invalid beta parameter at index 0: {}\".format(betas[0]))\n",
    "        if not 0.0 <= betas[1] < 1.0:\n",
    "            raise ValueError(\"Invalid beta parameter at index 1: {}\".format(betas[1]))\n",
    "\n",
    "        if decouple and weight_decay > 0:\n",
    "            print(f\"Using decoupled weight decay\")\n",
    "\n",
    "       \n",
    "        defaults = dict(lr=lr, betas=betas, beta3=beta3,\n",
    "                        eps=eps, weight_decay=weight_decay,\n",
    "                        d=d0, d0=d0, d_max=d0,\n",
    "                        d_numerator=0.0, d_coef=d_coef,\n",
    "                        k=0, growth_rate=growth_rate,\n",
    "                        use_bias_correction=use_bias_correction,\n",
    "                        decouple=decouple, safeguard_warmup=safeguard_warmup,\n",
    "                        fsdp_in_use=fsdp_in_use)\n",
    "        self.d0 = d0\n",
    "        super().__init__(params, defaults)\n",
    "\n",
    "    @property\n",
    "    def supports_memory_efficient_fp16(self):\n",
    "        return False\n",
    "\n",
    "    @property\n",
    "    def supports_flat_params(self):\n",
    "        return True\n",
    "\n",
    "    def step(self, closure=None):\n",
    "        \"\"\"Performs a single optimization step.\n",
    "\n",
    "        Arguments:\n",
    "            closure (callable, optional): A closure that reevaluates the model\n",
    "                and returns the loss.\n",
    "        \"\"\"\n",
    "        loss = None\n",
    "        if closure is not None:\n",
    "            loss = closure()\n",
    "\n",
    "        d_denom = 0.0\n",
    "\n",
    "        group = self.param_groups[0]\n",
    "        use_bias_correction = group['use_bias_correction']\n",
    "        beta1, beta2 = group['betas']\n",
    "        beta3 = group['beta3']\n",
    "        if beta3 is None:\n",
    "            beta3 = math.sqrt(beta2)\n",
    "        k = group['k']\n",
    "\n",
    "        d = group['d']\n",
    "        d_max = group['d_max']\n",
    "        d_coef = group['d_coef']\n",
    "        lr = max(group['lr'] for group in self.param_groups)\n",
    "\n",
    "        if use_bias_correction:\n",
    "            bias_correction = ((1 - beta2**(k+1))**0.5) / (1 - beta1**(k+1))\n",
    "        else:\n",
    "            bias_correction = 1\n",
    "\n",
    "        dlr = d*lr*bias_correction\n",
    "       \n",
    "        growth_rate = group['growth_rate']\n",
    "        decouple = group['decouple']\n",
    "        fsdp_in_use = group['fsdp_in_use']\n",
    "\n",
    "        d_numerator = group['d_numerator']\n",
    "        d_numerator *= beta3\n",
    "\n",
    "        for group in self.param_groups:\n",
    "            decay = group['weight_decay']\n",
    "            k = group['k']\n",
    "            eps = group['eps']\n",
    "            group_lr = group['lr']\n",
    "            d0 = group['d0']\n",
    "            safeguard_warmup = group['safeguard_warmup']\n",
    "\n",
    "            if group_lr not in [lr, 0.0]:\n",
    "                raise RuntimeError(f\"Setting different lr values in different parameter groups is only supported for values of 0\")\n",
    "\n",
    "            for p in group['params']:\n",
    "                if p.grad is None:\n",
    "                    continue\n",
    "                if hasattr(p, \"_fsdp_flattened\"):\n",
    "                    fsdp_in_use = True\n",
    "               \n",
    "                grad = p.grad.data\n",
    "               \n",
    "                # Apply weight decay (coupled variant)\n",
    "                if decay != 0 and not decouple:\n",
    "                    grad.add_(p.data, alpha=decay)\n",
    "\n",
    "                state = self.state[p]\n",
    "\n",
    "                # State initialization\n",
    "                if 'step' not in state:\n",
    "                    state['step'] = 0\n",
    "                    state['s'] = torch.zeros_like(p.data).detach()\n",
    "                    state['p0'] = p.detach().clone()\n",
    "                    # Exponential moving average of gradient values\n",
    "                    state['exp_avg'] = torch.zeros_like(p.data).detach()\n",
    "                    # Exponential moving average of squared gradient values\n",
    "                    state['exp_avg_sq'] = torch.zeros_like(p.data).detach()\n",
    "\n",
    "                exp_avg, exp_avg_sq = state['exp_avg'], state['exp_avg_sq']\n",
    "               \n",
    "                s = state['s']\n",
    "                p0 = state['p0']\n",
    "\n",
    "                if group_lr > 0.0:\n",
    "                    # we use d / d0 instead of just d to avoid getting values that are too small\n",
    "                    d_numerator += (d / d0) * dlr * torch.dot(grad.flatten(), (p0.data - p.data).flatten()).item()\n",
    "\n",
    "                    # Adam EMA updates\n",
    "                    exp_avg.mul_(beta1).add_(grad, alpha=d * (1-beta1))\n",
    "                    exp_avg_sq.mul_(beta2).addcmul_(grad, grad, value=d * d * (1-beta2))\n",
    "\n",
    "                    if safeguard_warmup:\n",
    "                        s.mul_(beta3).add_(grad, alpha=((d / d0) * d))\n",
    "                    else:\n",
    "                        s.mul_(beta3).add_(grad, alpha=((d / d0) * dlr))\n",
    "                    d_denom += s.abs().sum().item()\n",
    "\n",
    "            ######\n",
    "\n",
    "        d_hat = d\n",
    "\n",
    "        # if we have not done any progres, return\n",
    "        # if we have any gradients available, will have d_denom > 0 (unless \\|g\\|=0)\n",
    "        if d_denom == 0:\n",
    "            return loss\n",
    "       \n",
    "        if lr > 0.0:\n",
    "            if fsdp_in_use:\n",
    "                dist_tensor = torch.zeros(2).cuda()\n",
    "                dist_tensor[0] = d_numerator\n",
    "                dist_tensor[1] = d_denom\n",
    "                dist.all_reduce(dist_tensor, op=dist.ReduceOp.SUM)\n",
    "                global_d_numerator = dist_tensor[0]\n",
    "                global_d_denom = dist_tensor[1]\n",
    "            else:\n",
    "                global_d_numerator = d_numerator\n",
    "                global_d_denom = d_denom\n",
    "\n",
    "            d_hat = d_coef * global_d_numerator / global_d_denom\n",
    "            if d == group['d0']:\n",
    "                d = max(d, d_hat)\n",
    "            d_max = max(d_max, d_hat)\n",
    "            d = min(d_max, d * growth_rate)\n",
    "\n",
    "        for group in self.param_groups:\n",
    "            group['d_numerator'] = global_d_numerator\n",
    "            group['d_denom'] = global_d_denom\n",
    "            group['d'] = d\n",
    "            group['d_max'] = d_max\n",
    "            group['d_hat'] = d_hat\n",
    "\n",
    "            decay = group['weight_decay']\n",
    "            k = group['k']\n",
    "            eps = group['eps']\n",
    "\n",
    "            for p in group['params']:\n",
    "                if p.grad is None:\n",
    "                    continue\n",
    "                grad = p.grad.data\n",
    "\n",
    "                state = self.state[p]\n",
    "\n",
    "                exp_avg, exp_avg_sq = state['exp_avg'], state['exp_avg_sq']\n",
    "\n",
    "                state['step'] += 1\n",
    "\n",
    "                denom = exp_avg_sq.sqrt().add_(d * eps)\n",
    "\n",
    "                # Apply weight decay (decoupled variant)\n",
    "                if decay != 0 and decouple:\n",
    "                    p.data.add_(p.data, alpha=-decay * dlr)\n",
    "\n",
    "\n",
    "                ### Take step\n",
    "                p.data.addcdiv_(exp_avg, denom, value=-dlr)\n",
    "\n",
    "            group['k'] = k + 1\n",
    "\n",
    "        return loss"
   ]
  },
  {
   "cell_type": "code",
   "execution_count": 15,
   "metadata": {},
   "outputs": [],
   "source": [
    "class Ranger(Optimizer):\n",
    "\n",
    "    def __init__(self, params, lr=1e-3,                       # lr\n",
    "                 alpha=0.5, k=6, N_sma_threshhold=5,           # Ranger options\n",
    "                 betas=(.95, 0.999), eps=1e-5, weight_decay=0,  # Adam options\n",
    "                 # Gradient centralization on or off, applied to conv layers only or conv + fc layers\n",
    "                 use_gc=True, gc_conv_only=False\n",
    "                 ):\n",
    "\n",
    "        # parameter checks\n",
    "        if not 0.0 <= alpha <= 1.0:\n",
    "            raise ValueError(f'Invalid slow update rate: {alpha}')\n",
    "        if not 1 <= k:\n",
    "            raise ValueError(f'Invalid lookahead steps: {k}')\n",
    "        if not lr > 0:\n",
    "            raise ValueError(f'Invalid Learning Rate: {lr}')\n",
    "        if not eps > 0:\n",
    "            raise ValueError(f'Invalid eps: {eps}')\n",
    "\n",
    "        # parameter comments:\n",
    "        # beta1 (momentum) of .95 seems to work better than .90...\n",
    "        # N_sma_threshold of 5 seems better in testing than 4.\n",
    "        # In both cases, worth testing on your dataset (.90 vs .95, 4 vs 5) to make sure which works best for you.\n",
    "\n",
    "        # prep defaults and init torch.optim base\n",
    "        defaults = dict(lr=lr, alpha=alpha, k=k, step_counter=0, betas=betas,\n",
    "                        N_sma_threshhold=N_sma_threshhold, eps=eps, weight_decay=weight_decay)\n",
    "        super().__init__(params, defaults)\n",
    "\n",
    "        # adjustable threshold\n",
    "        self.N_sma_threshhold = N_sma_threshhold\n",
    "\n",
    "        # look ahead params\n",
    "\n",
    "        self.alpha = alpha\n",
    "        self.k = k\n",
    "\n",
    "        # radam buffer for state\n",
    "        self.radam_buffer = [[None, None, None] for ind in range(10)]\n",
    "\n",
    "        # gc on or off\n",
    "        self.use_gc = use_gc\n",
    "\n",
    "        # level of gradient centralization\n",
    "        self.gc_gradient_threshold = 3 if gc_conv_only else 1\n",
    "\n",
    "    def __setstate__(self, state):\n",
    "        super(Ranger, self).__setstate__(state)\n",
    "\n",
    "    def step(self, closure=None):\n",
    "        loss = None\n",
    "        # Evaluate averages and grad, update param tensors\n",
    "        for group in self.param_groups:\n",
    "\n",
    "            for p in group['params']:\n",
    "                if p.grad is None:\n",
    "                    continue\n",
    "                grad = p.grad.data.float()\n",
    "\n",
    "                if grad.is_sparse:\n",
    "                    raise RuntimeError(\n",
    "                        'Ranger optimizer does not support sparse gradients')\n",
    "\n",
    "                p_data_fp32 = p.data.float()\n",
    "\n",
    "                state = self.state[p]  # get state dict for this param\n",
    "\n",
    "                if len(state) == 0:  # if first time to run...init dictionary with our desired entries\n",
    "                    # if self.first_run_check==0:\n",
    "                    # self.first_run_check=1\n",
    "                    #print(\"Initializing slow buffer...should not see this at load from saved model!\")\n",
    "                    state['step'] = 0\n",
    "                    state['exp_avg'] = torch.zeros_like(p_data_fp32)\n",
    "                    state['exp_avg_sq'] = torch.zeros_like(p_data_fp32)\n",
    "\n",
    "                    # look ahead weight storage now in state dict\n",
    "                    state['slow_buffer'] = torch.empty_like(p.data)\n",
    "                    state['slow_buffer'].copy_(p.data)\n",
    "\n",
    "                else:\n",
    "                    state['exp_avg'] = state['exp_avg'].type_as(p_data_fp32)\n",
    "                    state['exp_avg_sq'] = state['exp_avg_sq'].type_as(\n",
    "                        p_data_fp32)\n",
    "\n",
    "                # begin computations\n",
    "                exp_avg, exp_avg_sq = state['exp_avg'], state['exp_avg_sq']\n",
    "                beta1, beta2 = group['betas']\n",
    "\n",
    "                # GC operation for Conv layers and FC layers\n",
    "                if grad.dim() > self.gc_gradient_threshold:\n",
    "                    grad.add_(-grad.mean(dim=tuple(range(1, grad.dim())), keepdim=True))\n",
    "\n",
    "                state['step'] += 1\n",
    "\n",
    "                # compute variance mov avg\n",
    "                exp_avg_sq.mul_(beta2).addcmul_(grad, grad, value=1 - beta2)\n",
    "                # compute mean moving avg\n",
    "                exp_avg.mul_(beta1).add_(grad, alpha=1 - beta1)\n",
    "\n",
    "                buffered = self.radam_buffer[int(state['step'] % 10)]\n",
    "\n",
    "                if state['step'] == buffered[0]:\n",
    "                    N_sma, step_size = buffered[1], buffered[2]\n",
    "                else:\n",
    "                    buffered[0] = state['step']\n",
    "                    beta2_t = beta2 ** state['step']\n",
    "                    N_sma_max = 2 / (1 - beta2) - 1\n",
    "                    N_sma = N_sma_max - 2 * \\\n",
    "                        state['step'] * beta2_t / (1 - beta2_t)\n",
    "                    buffered[1] = N_sma\n",
    "                    if N_sma > self.N_sma_threshhold:\n",
    "                        step_size = math.sqrt((1 - beta2_t) * (N_sma - 4) / (N_sma_max - 4) * (\n",
    "                            N_sma - 2) / N_sma * N_sma_max / (N_sma_max - 2)) / (1 - beta1 ** state['step'])\n",
    "                    else:\n",
    "                        step_size = 1.0 / (1 - beta1 ** state['step'])\n",
    "                    buffered[2] = step_size\n",
    "\n",
    "                if group['weight_decay'] != 0:\n",
    "                    p_data_fp32.add_(-group['weight_decay']\n",
    "                                     * group['lr'], p_data_fp32)\n",
    "\n",
    "                # apply lr\n",
    "                if N_sma > self.N_sma_threshhold:\n",
    "                    denom = exp_avg_sq.sqrt().add_(group['eps'])\n",
    "                    p_data_fp32.addcdiv_(exp_avg, denom, value=-step_size*\n",
    "                                         group['lr'])\n",
    "\n",
    "                else:\n",
    "                    p_data_fp32.add_(exp_avg, alpha=-step_size * group['lr'])\n",
    "\n",
    "                p.data.copy_(p_data_fp32)\n",
    "\n",
    "                # integrated look ahead...\n",
    "                # we do it at the param level instead of group level\n",
    "                if state['step'] % group['k'] == 0:\n",
    "                    # get access to slow param tensor\n",
    "                    slow_p = state['slow_buffer']\n",
    "                    # (fast weights - slow weights) * alpha\n",
    "                    slow_p.add_(p.data - slow_p, alpha=self.alpha)\n",
    "                    # copy interpolated weights to RAdam param tensor\n",
    "                    p.data.copy_(slow_p)\n",
    "\n",
    "        return loss"
   ]
  },
  {
   "cell_type": "markdown",
   "metadata": {},
   "source": [
    "### Convolutional Neural Network"
   ]
  },
  {
   "cell_type": "code",
   "execution_count": 6,
   "metadata": {},
   "outputs": [],
   "source": [
    "class CNN(nn.Module):\n",
    "    def __init__(self):\n",
    "        super(CNN, self).__init__()\n",
    "        self.conv1 = nn.Conv2d(1, 32, kernel_size=3, padding=1)\n",
    "        self.conv2 = nn.Conv2d(32, 64, kernel_size=3, padding=1)\n",
    "        self.pool = nn.MaxPool2d(2, 2)\n",
    "        self.fc1 = nn.Linear(64 * 7 * 7, 128)\n",
    "        self.fc2 = nn.Linear(128, 10)\n",
    "\n",
    "    def forward(self, x):\n",
    "        x = self.pool(torch.relu(self.conv1(x)))\n",
    "        x = self.pool(torch.relu(self.conv2(x)))\n",
    "        x = x.view(-1, 64 * 7 * 7)\n",
    "        x = torch.relu(self.fc1(x))\n",
    "        x = self.fc2(x)\n",
    "        return x"
   ]
  },
  {
   "cell_type": "markdown",
   "metadata": {},
   "source": [
    "Train and Test loop"
   ]
  },
  {
   "cell_type": "code",
   "execution_count": 7,
   "metadata": {},
   "outputs": [],
   "source": [
    "# Define evaluation function\n",
    "def evaluate(model, type, loader):\n",
    "    model.eval()\n",
    "    correct = 0\n",
    "    total = 0\n",
    "\n",
    "    with torch.no_grad():\n",
    "        with tqdm.tqdm(total=len(loader), desc='Test', unit='batch') as t:\n",
    "            for data in loader:\n",
    "                images, labels = data[0].to(device), data[1].to(device)\n",
    "                outputs = model(images)\n",
    "                _, predicted = torch.max(outputs.data, 1)\n",
    "                total += labels.size(0)\n",
    "                correct += (predicted == labels).sum().item()\n",
    "\n",
    "                t.update(1)\n",
    "\n",
    "        accuracy = 100 * correct / total\n",
    "        if type == 1:\n",
    "            print('Accuracy on test set: %.2f %%' % accuracy)\n",
    "\n",
    "    return accuracy"
   ]
  },
  {
   "cell_type": "code",
   "execution_count": 8,
   "metadata": {},
   "outputs": [],
   "source": [
    "def train(model, optimizer, criterion, trainloader, valloader, opt_name, epochs=20):\n",
    "    model.train()\n",
    "    losses = []\n",
    "    best_accuracy = 0.0\n",
    "\n",
    "    for epoch in range(epochs):\n",
    "        running_loss = 0.0\n",
    "        \n",
    "        with tqdm.tqdm(total=len(trainloader), desc=f'Train Epoch {epoch+1}', unit='batch') as t:\n",
    "            for i, data in enumerate(trainloader, 0):\n",
    "                inputs, labels = data[0].to(device), data[1].to(device)\n",
    "                optimizer.zero_grad()\n",
    "                outputs = model(inputs)\n",
    "                loss = criterion(outputs, labels)\n",
    "                loss.backward()\n",
    "                optimizer.step()\n",
    "                running_loss += loss.item()\n",
    "\n",
    "                t.set_postfix(loss=loss.item())\n",
    "                t.update(1)\n",
    "\n",
    "            epoch_loss = running_loss / len(trainloader)\n",
    "            losses.append(epoch_loss)\n",
    "\n",
    "            # Evaluate on validation set\n",
    "            val_accuracy = evaluate(model, 0, valloader)\n",
    "            print('[Epoch %d] Loss: %.3f, Validation Accuracy: %.2f %%' % (epoch+1, epoch_loss, val_accuracy))\n",
    "\n",
    "            # Save the model if it has the best accuracy so far\n",
    "            if val_accuracy > best_accuracy:\n",
    "                best_accuracy = val_accuracy\n",
    "                torch.save(model.state_dict(), f\"best_{opt_name}.pkl\")\n",
    "\n",
    "    return losses"
   ]
  },
  {
   "cell_type": "markdown",
   "metadata": {},
   "source": [
    "### Train and evaluate the model"
   ]
  },
  {
   "cell_type": "code",
   "execution_count": 22,
   "metadata": {},
   "outputs": [],
   "source": [
    "# Train and evaluate with different optimizers\n",
    "optimizers_1 = [optim.SGD, optim.Adam, optim.RMSprop, optim.Adadelta, Ranger]\n",
    "optimizer_names_1 = ['SGD', 'Adam', 'RMSProp', 'AdaDelta', 'Ranger']\n",
    "\n",
    "optimizers_2 = [Prodigy, NAG, ProxSG, SVRG]\n",
    "optimizer_names_2 = ['Prodigy', 'NAG', 'ProxSG', 'SVRG']"
   ]
  },
  {
   "cell_type": "code",
   "execution_count": 28,
   "metadata": {},
   "outputs": [],
   "source": [
    "train_loss = {}\n",
    "test_accuracy = {}\n",
    "convergence_rate = {}"
   ]
  },
  {
   "cell_type": "code",
   "execution_count": 29,
   "metadata": {},
   "outputs": [
    {
     "name": "stdout",
     "output_type": "stream",
     "text": [
      "\n",
      "Training with SGD optimizer:\n"
     ]
    },
    {
     "name": "stderr",
     "output_type": "stream",
     "text": [
      "Test: 100%|██████████| 94/94 [00:02<00:00, 36.91batch/s]63.30batch/s, loss=0.112] \n",
      "Train Epoch 1: 100%|██████████| 1875/1875 [00:33<00:00, 56.62batch/s, loss=0.112]\n"
     ]
    },
    {
     "name": "stdout",
     "output_type": "stream",
     "text": [
      "[Epoch 1] Loss: 0.515, Validation Accuracy: 96.16 %\n"
     ]
    },
    {
     "name": "stderr",
     "output_type": "stream",
     "text": [
      "Test: 100%|██████████| 94/94 [00:02<00:00, 39.57batch/s]65.91batch/s, loss=0.122]  \n",
      "Train Epoch 2: 100%|██████████| 1875/1875 [00:31<00:00, 60.23batch/s, loss=0.122]\n"
     ]
    },
    {
     "name": "stdout",
     "output_type": "stream",
     "text": [
      "[Epoch 2] Loss: 0.116, Validation Accuracy: 97.43 %\n"
     ]
    },
    {
     "name": "stderr",
     "output_type": "stream",
     "text": [
      "Test: 100%|██████████| 94/94 [00:02<00:00, 38.51batch/s]66.28batch/s, loss=0.135]  \n",
      "Train Epoch 3: 100%|██████████| 1875/1875 [00:31<00:00, 60.15batch/s, loss=0.135]\n"
     ]
    },
    {
     "name": "stdout",
     "output_type": "stream",
     "text": [
      "[Epoch 3] Loss: 0.080, Validation Accuracy: 98.17 %\n"
     ]
    },
    {
     "name": "stderr",
     "output_type": "stream",
     "text": [
      "Test: 100%|██████████| 94/94 [00:02<00:00, 39.17batch/s]66.10batch/s, loss=0.146]  \n",
      "Train Epoch 4: 100%|██████████| 1875/1875 [00:31<00:00, 60.18batch/s, loss=0.146]\n"
     ]
    },
    {
     "name": "stdout",
     "output_type": "stream",
     "text": [
      "[Epoch 4] Loss: 0.065, Validation Accuracy: 98.38 %\n"
     ]
    },
    {
     "name": "stderr",
     "output_type": "stream",
     "text": [
      "Test: 100%|██████████| 94/94 [00:02<00:00, 37.38batch/s]65.14batch/s, loss=0.182]  \n",
      "Train Epoch 5: 100%|██████████| 1875/1875 [00:31<00:00, 60.18batch/s, loss=0.182]\n"
     ]
    },
    {
     "name": "stdout",
     "output_type": "stream",
     "text": [
      "[Epoch 5] Loss: 0.054, Validation Accuracy: 98.81 %\n"
     ]
    },
    {
     "name": "stderr",
     "output_type": "stream",
     "text": [
      "Test: 100%|██████████| 94/94 [00:02<00:00, 37.38batch/s]64.23batch/s, loss=0.00122]\n",
      "Train Epoch 6: 100%|██████████| 1875/1875 [00:31<00:00, 58.99batch/s, loss=0.00122]\n"
     ]
    },
    {
     "name": "stdout",
     "output_type": "stream",
     "text": [
      "[Epoch 6] Loss: 0.047, Validation Accuracy: 98.97 %\n"
     ]
    },
    {
     "name": "stderr",
     "output_type": "stream",
     "text": [
      "Test: 100%|██████████| 94/94 [00:02<00:00, 37.27batch/s]67.07batch/s, loss=0.00527] \n",
      "Train Epoch 7: 100%|██████████| 1875/1875 [00:31<00:00, 59.16batch/s, loss=0.00527]\n"
     ]
    },
    {
     "name": "stdout",
     "output_type": "stream",
     "text": [
      "[Epoch 7] Loss: 0.042, Validation Accuracy: 99.02 %\n"
     ]
    },
    {
     "name": "stderr",
     "output_type": "stream",
     "text": [
      "Test: 100%|██████████| 94/94 [00:02<00:00, 38.85batch/s]66.53batch/s, loss=0.00354] \n",
      "Train Epoch 8: 100%|██████████| 1875/1875 [00:31<00:00, 59.94batch/s, loss=0.00354]\n"
     ]
    },
    {
     "name": "stdout",
     "output_type": "stream",
     "text": [
      "[Epoch 8] Loss: 0.037, Validation Accuracy: 99.17 %\n"
     ]
    },
    {
     "name": "stderr",
     "output_type": "stream",
     "text": [
      "Test: 100%|██████████| 94/94 [00:02<00:00, 37.81batch/s]59.56batch/s, loss=0.000756]\n",
      "Train Epoch 9: 100%|██████████| 1875/1875 [00:31<00:00, 60.18batch/s, loss=0.000756]\n"
     ]
    },
    {
     "name": "stdout",
     "output_type": "stream",
     "text": [
      "[Epoch 9] Loss: 0.033, Validation Accuracy: 99.15 %\n"
     ]
    },
    {
     "name": "stderr",
     "output_type": "stream",
     "text": [
      "Test: 100%|██████████| 94/94 [00:02<00:00, 40.13batch/s] 65.27batch/s, loss=0.00419] \n",
      "Train Epoch 10: 100%|██████████| 1875/1875 [00:30<00:00, 60.89batch/s, loss=0.00419]\n"
     ]
    },
    {
     "name": "stdout",
     "output_type": "stream",
     "text": [
      "[Epoch 10] Loss: 0.031, Validation Accuracy: 99.33 %\n"
     ]
    },
    {
     "name": "stderr",
     "output_type": "stream",
     "text": [
      "Test: 100%|██████████| 313/313 [00:02<00:00, 116.10batch/s]\n"
     ]
    },
    {
     "name": "stdout",
     "output_type": "stream",
     "text": [
      "Accuracy on test set: 98.89 %\n",
      "\n",
      "Training with Adam optimizer:\n"
     ]
    },
    {
     "name": "stderr",
     "output_type": "stream",
     "text": [
      "Test: 100%|██████████| 94/94 [00:02<00:00, 43.80batch/s]56.47batch/s, loss=0.189]  \n",
      "Train Epoch 1: 100%|██████████| 1875/1875 [00:32<00:00, 57.08batch/s, loss=0.189]\n"
     ]
    },
    {
     "name": "stdout",
     "output_type": "stream",
     "text": [
      "[Epoch 1] Loss: 0.355, Validation Accuracy: 94.71 %\n"
     ]
    },
    {
     "name": "stderr",
     "output_type": "stream",
     "text": [
      "Test: 100%|██████████| 94/94 [00:02<00:00, 45.38batch/s]50.54batch/s, loss=0.396]  \n",
      "Train Epoch 2: 100%|██████████| 1875/1875 [00:32<00:00, 57.17batch/s, loss=0.396]\n"
     ]
    },
    {
     "name": "stdout",
     "output_type": "stream",
     "text": [
      "[Epoch 2] Loss: 0.176, Validation Accuracy: 96.05 %\n"
     ]
    },
    {
     "name": "stderr",
     "output_type": "stream",
     "text": [
      "Test: 100%|██████████| 94/94 [00:01<00:00, 47.19batch/s]65.31batch/s, loss=0.208]  \n",
      "Train Epoch 3: 100%|██████████| 1875/1875 [00:33<00:00, 56.11batch/s, loss=0.208]\n"
     ]
    },
    {
     "name": "stdout",
     "output_type": "stream",
     "text": [
      "[Epoch 3] Loss: 0.158, Validation Accuracy: 95.47 %\n"
     ]
    },
    {
     "name": "stderr",
     "output_type": "stream",
     "text": [
      "Test: 100%|██████████| 94/94 [00:02<00:00, 42.85batch/s]62.74batch/s, loss=0.458]  \n",
      "Train Epoch 4: 100%|██████████| 1875/1875 [00:32<00:00, 57.56batch/s, loss=0.458]\n"
     ]
    },
    {
     "name": "stdout",
     "output_type": "stream",
     "text": [
      "[Epoch 4] Loss: 0.151, Validation Accuracy: 95.87 %\n"
     ]
    },
    {
     "name": "stderr",
     "output_type": "stream",
     "text": [
      "Test: 100%|██████████| 94/94 [00:02<00:00, 44.02batch/s]64.00batch/s, loss=0.0287] \n",
      "Train Epoch 5: 100%|██████████| 1875/1875 [00:32<00:00, 58.54batch/s, loss=0.0287]\n"
     ]
    },
    {
     "name": "stdout",
     "output_type": "stream",
     "text": [
      "[Epoch 5] Loss: 0.150, Validation Accuracy: 96.27 %\n"
     ]
    },
    {
     "name": "stderr",
     "output_type": "stream",
     "text": [
      "Test: 100%|██████████| 94/94 [00:02<00:00, 43.12batch/s]64.67batch/s, loss=0.0149] \n",
      "Train Epoch 6: 100%|██████████| 1875/1875 [00:32<00:00, 58.16batch/s, loss=0.0149]\n"
     ]
    },
    {
     "name": "stdout",
     "output_type": "stream",
     "text": [
      "[Epoch 6] Loss: 0.136, Validation Accuracy: 96.50 %\n"
     ]
    },
    {
     "name": "stderr",
     "output_type": "stream",
     "text": [
      "Test: 100%|██████████| 94/94 [00:02<00:00, 42.72batch/s]65.06batch/s, loss=0.135]  \n",
      "Train Epoch 7: 100%|██████████| 1875/1875 [00:31<00:00, 58.79batch/s, loss=0.135]\n"
     ]
    },
    {
     "name": "stdout",
     "output_type": "stream",
     "text": [
      "[Epoch 7] Loss: 0.141, Validation Accuracy: 96.92 %\n"
     ]
    },
    {
     "name": "stderr",
     "output_type": "stream",
     "text": [
      "Test: 100%|██████████| 94/94 [00:02<00:00, 44.18batch/s]63.16batch/s, loss=0.146]  \n",
      "Train Epoch 8: 100%|██████████| 1875/1875 [00:32<00:00, 58.11batch/s, loss=0.146]\n"
     ]
    },
    {
     "name": "stdout",
     "output_type": "stream",
     "text": [
      "[Epoch 8] Loss: 0.138, Validation Accuracy: 94.93 %\n"
     ]
    },
    {
     "name": "stderr",
     "output_type": "stream",
     "text": [
      "Test: 100%|██████████| 94/94 [00:02<00:00, 43.93batch/s]64.04batch/s, loss=0.164]   \n",
      "Train Epoch 9: 100%|██████████| 1875/1875 [00:32<00:00, 58.31batch/s, loss=0.164]\n"
     ]
    },
    {
     "name": "stdout",
     "output_type": "stream",
     "text": [
      "[Epoch 9] Loss: 0.132, Validation Accuracy: 96.42 %\n"
     ]
    },
    {
     "name": "stderr",
     "output_type": "stream",
     "text": [
      "Test: 100%|██████████| 94/94 [00:02<00:00, 43.72batch/s] 62.97batch/s, loss=0.0967] \n",
      "Train Epoch 10: 100%|██████████| 1875/1875 [00:32<00:00, 58.08batch/s, loss=0.0967]\n"
     ]
    },
    {
     "name": "stdout",
     "output_type": "stream",
     "text": [
      "[Epoch 10] Loss: 0.134, Validation Accuracy: 95.44 %\n"
     ]
    },
    {
     "name": "stderr",
     "output_type": "stream",
     "text": [
      "Test: 100%|██████████| 313/313 [00:02<00:00, 135.88batch/s]\n"
     ]
    },
    {
     "name": "stdout",
     "output_type": "stream",
     "text": [
      "Accuracy on test set: 96.27 %\n",
      "\n",
      "Training with RMSProp optimizer:\n"
     ]
    },
    {
     "name": "stderr",
     "output_type": "stream",
     "text": [
      "Test: 100%|██████████| 94/94 [00:02<00:00, 44.02batch/s]65.52batch/s, loss=2.28]\n",
      "Train Epoch 1: 100%|██████████| 1875/1875 [00:31<00:00, 59.46batch/s, loss=2.28]\n"
     ]
    },
    {
     "name": "stdout",
     "output_type": "stream",
     "text": [
      "[Epoch 1] Loss: 2.904, Validation Accuracy: 10.60 %\n"
     ]
    },
    {
     "name": "stderr",
     "output_type": "stream",
     "text": [
      "Test: 100%|██████████| 94/94 [00:02<00:00, 43.48batch/s]56.09batch/s, loss=2.29]\n",
      "Train Epoch 2: 100%|██████████| 1875/1875 [00:32<00:00, 58.49batch/s, loss=2.29]\n"
     ]
    },
    {
     "name": "stdout",
     "output_type": "stream",
     "text": [
      "[Epoch 2] Loss: 2.302, Validation Accuracy: 10.60 %\n"
     ]
    },
    {
     "name": "stderr",
     "output_type": "stream",
     "text": [
      "Test: 100%|██████████| 94/94 [00:02<00:00, 43.45batch/s]64.09batch/s, loss=2.3] \n",
      "Train Epoch 3: 100%|██████████| 1875/1875 [00:31<00:00, 59.31batch/s, loss=2.3]\n"
     ]
    },
    {
     "name": "stdout",
     "output_type": "stream",
     "text": [
      "[Epoch 3] Loss: 2.303, Validation Accuracy: 10.60 %\n"
     ]
    },
    {
     "name": "stderr",
     "output_type": "stream",
     "text": [
      "Test: 100%|██████████| 94/94 [00:02<00:00, 42.74batch/s]58.80batch/s, loss=2.31]\n",
      "Train Epoch 4: 100%|██████████| 1875/1875 [00:31<00:00, 58.87batch/s, loss=2.31]\n"
     ]
    },
    {
     "name": "stdout",
     "output_type": "stream",
     "text": [
      "[Epoch 4] Loss: 2.303, Validation Accuracy: 10.60 %\n"
     ]
    },
    {
     "name": "stderr",
     "output_type": "stream",
     "text": [
      "Test: 100%|██████████| 94/94 [00:02<00:00, 42.57batch/s]65.52batch/s, loss=2.31]\n",
      "Train Epoch 5: 100%|██████████| 1875/1875 [00:31<00:00, 59.94batch/s, loss=2.31]\n"
     ]
    },
    {
     "name": "stdout",
     "output_type": "stream",
     "text": [
      "[Epoch 5] Loss: 2.303, Validation Accuracy: 10.60 %\n"
     ]
    },
    {
     "name": "stderr",
     "output_type": "stream",
     "text": [
      "Test: 100%|██████████| 94/94 [00:02<00:00, 42.85batch/s]65.10batch/s, loss=2.3] \n",
      "Train Epoch 6: 100%|██████████| 1875/1875 [00:31<00:00, 60.20batch/s, loss=2.3]\n"
     ]
    },
    {
     "name": "stdout",
     "output_type": "stream",
     "text": [
      "[Epoch 6] Loss: 2.303, Validation Accuracy: 10.60 %\n"
     ]
    },
    {
     "name": "stderr",
     "output_type": "stream",
     "text": [
      "Test: 100%|██████████| 94/94 [00:02<00:00, 42.87batch/s]65.18batch/s, loss=2.3] \n",
      "Train Epoch 7: 100%|██████████| 1875/1875 [00:31<00:00, 59.65batch/s, loss=2.3]\n"
     ]
    },
    {
     "name": "stdout",
     "output_type": "stream",
     "text": [
      "[Epoch 7] Loss: 2.302, Validation Accuracy: 9.95 %\n"
     ]
    },
    {
     "name": "stderr",
     "output_type": "stream",
     "text": [
      "Test: 100%|██████████| 94/94 [00:02<00:00, 42.94batch/s]65.20batch/s, loss=2.28]\n",
      "Train Epoch 8: 100%|██████████| 1875/1875 [00:31<00:00, 59.68batch/s, loss=2.28]\n"
     ]
    },
    {
     "name": "stdout",
     "output_type": "stream",
     "text": [
      "[Epoch 8] Loss: 2.302, Validation Accuracy: 10.60 %\n"
     ]
    },
    {
     "name": "stderr",
     "output_type": "stream",
     "text": [
      "Test: 100%|██████████| 94/94 [00:02<00:00, 43.87batch/s]65.93batch/s, loss=2.3] \n",
      "Train Epoch 9: 100%|██████████| 1875/1875 [00:31<00:00, 59.12batch/s, loss=2.3]\n"
     ]
    },
    {
     "name": "stdout",
     "output_type": "stream",
     "text": [
      "[Epoch 9] Loss: 2.303, Validation Accuracy: 10.60 %\n"
     ]
    },
    {
     "name": "stderr",
     "output_type": "stream",
     "text": [
      "Test: 100%|██████████| 94/94 [00:02<00:00, 41.65batch/s] 65.25batch/s, loss=2.3] \n",
      "Train Epoch 10: 100%|██████████| 1875/1875 [00:31<00:00, 59.07batch/s, loss=2.3]\n"
     ]
    },
    {
     "name": "stdout",
     "output_type": "stream",
     "text": [
      "[Epoch 10] Loss: 2.303, Validation Accuracy: 9.98 %\n"
     ]
    },
    {
     "name": "stderr",
     "output_type": "stream",
     "text": [
      "Test: 100%|██████████| 313/313 [00:02<00:00, 134.55batch/s]\n"
     ]
    },
    {
     "name": "stdout",
     "output_type": "stream",
     "text": [
      "Accuracy on test set: 11.35 %\n",
      "\n",
      "Training with AdaDelta optimizer:\n"
     ]
    },
    {
     "name": "stderr",
     "output_type": "stream",
     "text": [
      "Test: 100%|██████████| 94/94 [00:02<00:00, 42.80batch/s]54.90batch/s, loss=0.36]  \n",
      "Train Epoch 1: 100%|██████████| 1875/1875 [00:34<00:00, 53.75batch/s, loss=0.36]\n"
     ]
    },
    {
     "name": "stdout",
     "output_type": "stream",
     "text": [
      "[Epoch 1] Loss: 0.778, Validation Accuracy: 92.75 %\n"
     ]
    },
    {
     "name": "stderr",
     "output_type": "stream",
     "text": [
      "Test: 100%|██████████| 94/94 [00:02<00:00, 43.92batch/s]57.85batch/s, loss=0.0995]\n",
      "Train Epoch 2: 100%|██████████| 1875/1875 [00:34<00:00, 54.84batch/s, loss=0.0995]\n"
     ]
    },
    {
     "name": "stdout",
     "output_type": "stream",
     "text": [
      "[Epoch 2] Loss: 0.229, Validation Accuracy: 94.98 %\n"
     ]
    },
    {
     "name": "stderr",
     "output_type": "stream",
     "text": [
      "Test: 100%|██████████| 94/94 [00:02<00:00, 43.94batch/s]56.41batch/s, loss=0.13]   \n",
      "Train Epoch 3: 100%|██████████| 1875/1875 [00:34<00:00, 54.71batch/s, loss=0.13]\n"
     ]
    },
    {
     "name": "stdout",
     "output_type": "stream",
     "text": [
      "[Epoch 3] Loss: 0.164, Validation Accuracy: 96.15 %\n"
     ]
    },
    {
     "name": "stderr",
     "output_type": "stream",
     "text": [
      "Test: 100%|██████████| 94/94 [00:02<00:00, 43.88batch/s]58.52batch/s, loss=0.29]   \n",
      "Train Epoch 4: 100%|██████████| 1875/1875 [00:34<00:00, 54.98batch/s, loss=0.29]\n"
     ]
    },
    {
     "name": "stdout",
     "output_type": "stream",
     "text": [
      "[Epoch 4] Loss: 0.130, Validation Accuracy: 97.08 %\n"
     ]
    },
    {
     "name": "stderr",
     "output_type": "stream",
     "text": [
      "Test: 100%|██████████| 94/94 [00:02<00:00, 44.11batch/s]60.64batch/s, loss=0.214]  \n",
      "Train Epoch 5: 100%|██████████| 1875/1875 [00:34<00:00, 54.24batch/s, loss=0.214]\n"
     ]
    },
    {
     "name": "stdout",
     "output_type": "stream",
     "text": [
      "[Epoch 5] Loss: 0.109, Validation Accuracy: 97.46 %\n"
     ]
    },
    {
     "name": "stderr",
     "output_type": "stream",
     "text": [
      "Test: 100%|██████████| 94/94 [00:02<00:00, 44.11batch/s]59.59batch/s, loss=0.0792] \n",
      "Train Epoch 6: 100%|██████████| 1875/1875 [00:33<00:00, 55.15batch/s, loss=0.0792]\n"
     ]
    },
    {
     "name": "stdout",
     "output_type": "stream",
     "text": [
      "[Epoch 6] Loss: 0.095, Validation Accuracy: 97.64 %\n"
     ]
    },
    {
     "name": "stderr",
     "output_type": "stream",
     "text": [
      "Test: 100%|██████████| 94/94 [00:02<00:00, 43.36batch/s]57.84batch/s, loss=0.0578] \n",
      "Train Epoch 7: 100%|██████████| 1875/1875 [00:34<00:00, 54.87batch/s, loss=0.0578]\n"
     ]
    },
    {
     "name": "stdout",
     "output_type": "stream",
     "text": [
      "[Epoch 7] Loss: 0.085, Validation Accuracy: 97.78 %\n"
     ]
    },
    {
     "name": "stderr",
     "output_type": "stream",
     "text": [
      "Test: 100%|██████████| 94/94 [00:02<00:00, 44.26batch/s]58.41batch/s, loss=0.182]  \n",
      "Train Epoch 8: 100%|██████████| 1875/1875 [00:34<00:00, 54.91batch/s, loss=0.182]\n"
     ]
    },
    {
     "name": "stdout",
     "output_type": "stream",
     "text": [
      "[Epoch 8] Loss: 0.077, Validation Accuracy: 98.04 %\n"
     ]
    },
    {
     "name": "stderr",
     "output_type": "stream",
     "text": [
      "Test: 100%|██████████| 94/94 [00:02<00:00, 44.07batch/s]49.83batch/s, loss=0.0112] \n",
      "Train Epoch 9: 100%|██████████| 1875/1875 [00:34<00:00, 54.93batch/s, loss=0.0112]\n"
     ]
    },
    {
     "name": "stdout",
     "output_type": "stream",
     "text": [
      "[Epoch 9] Loss: 0.071, Validation Accuracy: 98.22 %\n"
     ]
    },
    {
     "name": "stderr",
     "output_type": "stream",
     "text": [
      "Test: 100%|██████████| 94/94 [00:02<00:00, 43.58batch/s] 59.74batch/s, loss=0.00969]\n",
      "Train Epoch 10: 100%|██████████| 1875/1875 [00:34<00:00, 54.79batch/s, loss=0.00969]\n"
     ]
    },
    {
     "name": "stdout",
     "output_type": "stream",
     "text": [
      "[Epoch 10] Loss: 0.067, Validation Accuracy: 98.34 %\n"
     ]
    },
    {
     "name": "stderr",
     "output_type": "stream",
     "text": [
      "Test: 100%|██████████| 313/313 [00:02<00:00, 133.21batch/s]\n"
     ]
    },
    {
     "name": "stdout",
     "output_type": "stream",
     "text": [
      "Accuracy on test set: 98.25 %\n",
      "\n",
      "Training with Ranger optimizer:\n"
     ]
    },
    {
     "name": "stderr",
     "output_type": "stream",
     "text": [
      "Test: 100%|██████████| 94/94 [00:02<00:00, 44.08batch/s]62.08batch/s, loss=0.0545]  \n",
      "Train Epoch 1: 100%|██████████| 1875/1875 [00:33<00:00, 56.01batch/s, loss=0.0545]\n"
     ]
    },
    {
     "name": "stdout",
     "output_type": "stream",
     "text": [
      "[Epoch 1] Loss: 0.143, Validation Accuracy: 98.03 %\n"
     ]
    },
    {
     "name": "stderr",
     "output_type": "stream",
     "text": [
      "Test: 100%|██████████| 94/94 [00:02<00:00, 44.18batch/s]64.19batch/s, loss=0.0124]  \n",
      "Train Epoch 2: 100%|██████████| 1875/1875 [00:32<00:00, 57.91batch/s, loss=0.0124]\n"
     ]
    },
    {
     "name": "stdout",
     "output_type": "stream",
     "text": [
      "[Epoch 2] Loss: 0.065, Validation Accuracy: 98.99 %\n"
     ]
    },
    {
     "name": "stderr",
     "output_type": "stream",
     "text": [
      "Test: 100%|██████████| 94/94 [00:02<00:00, 44.26batch/s]63.80batch/s, loss=0.0911]  \n",
      "Train Epoch 3: 100%|██████████| 1875/1875 [00:32<00:00, 58.34batch/s, loss=0.0911]\n"
     ]
    },
    {
     "name": "stdout",
     "output_type": "stream",
     "text": [
      "[Epoch 3] Loss: 0.049, Validation Accuracy: 99.11 %\n"
     ]
    },
    {
     "name": "stderr",
     "output_type": "stream",
     "text": [
      "Test: 100%|██████████| 94/94 [00:02<00:00, 44.11batch/s]62.49batch/s, loss=0.371]   \n",
      "Train Epoch 4: 100%|██████████| 1875/1875 [00:32<00:00, 57.09batch/s, loss=0.371]\n"
     ]
    },
    {
     "name": "stdout",
     "output_type": "stream",
     "text": [
      "[Epoch 4] Loss: 0.043, Validation Accuracy: 99.17 %\n"
     ]
    },
    {
     "name": "stderr",
     "output_type": "stream",
     "text": [
      "Test: 100%|██████████| 94/94 [00:02<00:00, 42.96batch/s]58.74batch/s, loss=4.35e-6] \n",
      "Train Epoch 5: 100%|██████████| 1875/1875 [00:33<00:00, 56.48batch/s, loss=4.35e-6]\n"
     ]
    },
    {
     "name": "stdout",
     "output_type": "stream",
     "text": [
      "[Epoch 5] Loss: 0.040, Validation Accuracy: 98.58 %\n"
     ]
    },
    {
     "name": "stderr",
     "output_type": "stream",
     "text": [
      "Test: 100%|██████████| 94/94 [00:02<00:00, 43.54batch/s]61.97batch/s, loss=0.000133]\n",
      "Train Epoch 6: 100%|██████████| 1875/1875 [00:32<00:00, 56.92batch/s, loss=0.000133]\n"
     ]
    },
    {
     "name": "stdout",
     "output_type": "stream",
     "text": [
      "[Epoch 6] Loss: 0.045, Validation Accuracy: 98.93 %\n"
     ]
    },
    {
     "name": "stderr",
     "output_type": "stream",
     "text": [
      "Test: 100%|██████████| 94/94 [00:02<00:00, 44.17batch/s]62.25batch/s, loss=0.0117]  \n",
      "Train Epoch 7: 100%|██████████| 1875/1875 [00:33<00:00, 55.87batch/s, loss=0.0117]\n"
     ]
    },
    {
     "name": "stdout",
     "output_type": "stream",
     "text": [
      "[Epoch 7] Loss: 0.034, Validation Accuracy: 98.53 %\n"
     ]
    },
    {
     "name": "stderr",
     "output_type": "stream",
     "text": [
      "Test: 100%|██████████| 94/94 [00:02<00:00, 43.94batch/s]59.15batch/s, loss=0.0295]  \n",
      "Train Epoch 8: 100%|██████████| 1875/1875 [00:33<00:00, 55.97batch/s, loss=0.0295]\n"
     ]
    },
    {
     "name": "stdout",
     "output_type": "stream",
     "text": [
      "[Epoch 8] Loss: 0.035, Validation Accuracy: 99.47 %\n"
     ]
    },
    {
     "name": "stderr",
     "output_type": "stream",
     "text": [
      "Test: 100%|██████████| 94/94 [00:02<00:00, 43.95batch/s]60.09batch/s, loss=2.53e-6] \n",
      "Train Epoch 9: 100%|██████████| 1875/1875 [00:33<00:00, 55.91batch/s, loss=2.53e-6]\n"
     ]
    },
    {
     "name": "stdout",
     "output_type": "stream",
     "text": [
      "[Epoch 9] Loss: 0.032, Validation Accuracy: 99.20 %\n"
     ]
    },
    {
     "name": "stderr",
     "output_type": "stream",
     "text": [
      "Test: 100%|██████████| 94/94 [00:02<00:00, 40.66batch/s] 61.08batch/s, loss=5.64e-6] \n",
      "Train Epoch 10: 100%|██████████| 1875/1875 [00:33<00:00, 56.50batch/s, loss=5.64e-6]\n"
     ]
    },
    {
     "name": "stdout",
     "output_type": "stream",
     "text": [
      "[Epoch 10] Loss: 0.035, Validation Accuracy: 99.30 %\n"
     ]
    },
    {
     "name": "stderr",
     "output_type": "stream",
     "text": [
      "Test: 100%|██████████| 313/313 [00:02<00:00, 138.14batch/s]"
     ]
    },
    {
     "name": "stdout",
     "output_type": "stream",
     "text": [
      "Accuracy on test set: 98.72 %\n"
     ]
    },
    {
     "name": "stderr",
     "output_type": "stream",
     "text": [
      "\n"
     ]
    }
   ],
   "source": [
    "# Part 1\n",
    "for opt_fn, opt_name in zip(optimizers_1, optimizer_names_1):\n",
    "    print(f\"\\nTraining with {opt_name} optimizer:\")\n",
    "    model = CNN().to(device)\n",
    "\n",
    "    if opt_name == 'ProxSG':\n",
    "        optimizer = opt_fn(model.parameters(), lr=0.01, lambda_=0.0001)\n",
    "    else:\n",
    "        optimizer = opt_fn(model.parameters(), lr=0.01)\n",
    "    \n",
    "    criterion = nn.CrossEntropyLoss()\n",
    "    losses = train(model, optimizer, criterion, trainloader, valloader, opt_name, 10)\n",
    "    conv_rate = [losses[i] - losses[i-1] for i in range(1, len(losses))]\n",
    "\n",
    "    # Load the best model for testing\n",
    "    model.load_state_dict(torch.load(f\"best_{opt_name}.pkl\"))\n",
    "    accuracy = evaluate(model, 1, testloader)\n",
    "\n",
    "    train_loss[opt_name] = losses\n",
    "    test_accuracy[opt_name] = accuracy\n",
    "    convergence_rate[opt_name] = conv_rate"
   ]
  },
  {
   "cell_type": "code",
   "execution_count": 30,
   "metadata": {},
   "outputs": [
    {
     "name": "stdout",
     "output_type": "stream",
     "text": [
      "train_loss: {'SGD': [0.5149847493459782, 0.11585771384189526, 0.08043871236046156, 0.06496814624331891, 0.05423938889543836, 0.04706040541194379, 0.042102900602078684, 0.03718769552069716, 0.033279643512594825, 0.030962520780942093], 'Adam': [0.3548007835457722, 0.17605250554146867, 0.1584559859863172, 0.1509707493553559, 0.14952125120948379, 0.13557167038122814, 0.1410857055593282, 0.13755558048846822, 0.13230433967593125, 0.1340204933011749], 'RMSProp': [2.9044491924285887, 2.3024377548217774, 2.3025055923461912, 2.3027291613260905, 2.3025638440450034, 2.3025048749287924, 2.3024386220296225, 2.3024813311258954, 2.302507264963786, 2.3025993216196694], 'AdaDelta': [0.7781204207539558, 0.2291564167012771, 0.1638249838642776, 0.12956143487070998, 0.10857129003331065, 0.09518203043763836, 0.08471356219289203, 0.07736568645052612, 0.07143653181760261, 0.0665165514052535], 'Ranger': [0.14260838257526048, 0.06472640082087018, 0.049428286621800724, 0.04254871656668159, 0.03978037537699195, 0.0454243067814861, 0.03357938855154111, 0.03548192477852238, 0.03248710534589826, 0.035468346355313894]}\n",
      "test_accuracy: {'SGD': 98.89, 'Adam': 96.27, 'RMSProp': 11.35, 'AdaDelta': 98.25, 'Ranger': 98.72}\n",
      "convergence_rate: {'SGD': [-0.3991270355040829, -0.035419001481433704, -0.015470566117142648, -0.01072875734788055, -0.007178983483494571, -0.004957504809865107, -0.004915205081381525, -0.0039080520081023334, -0.0023171227316527328], 'Adam': [-0.17874827800430354, -0.017596519555151485, -0.0074852366309612894, -0.0014494981458721135, -0.013949580828255648, 0.005514035178100063, -0.0035301250708599796, -0.0052512408125369725, 0.0017161536252436604], 'RMSProp': [-0.6020114376068113, 6.78375244138607e-05, 0.00022356897989928015, -0.0001653172810871517, -5.896911621094958e-05, -6.625289916994959e-05, 4.27090962729082e-05, 2.5933837890512734e-05, 9.205665588352119e-05], 'AdaDelta': [-0.5489640040526788, -0.06533143283699949, -0.03426354899356762, -0.020990144837399333, -0.01338925959567229, -0.010468468244746329, -0.007347875742365909, -0.005929154632923511, -0.004919980412349104], 'Ranger': [-0.0778819817543903, -0.015298114199069457, -0.006879570055119133, -0.0027683411896896395, 0.005643931404494151, -0.01184491822994499, 0.0019025362269812704, -0.0029948194326241268, 0.0029812410094156375]}\n"
     ]
    }
   ],
   "source": [
    "print(f'train_loss: {train_loss}')\n",
    "print(f'test_accuracy: {test_accuracy}')\n",
    "print(f'convergence_rate: {convergence_rate}')"
   ]
  },
  {
   "cell_type": "code",
   "execution_count": 33,
   "metadata": {},
   "outputs": [],
   "source": [
    "train_loss = {'SGD': [0.5149847493459782, 0.11585771384189526, 0.08043871236046156, 0.06496814624331891, 0.05423938889543836, 0.04706040541194379, 0.042102900602078684, 0.03718769552069716, 0.033279643512594825, 0.030962520780942093], 'Adam': [0.3548007835457722, 0.17605250554146867, 0.1584559859863172, 0.1509707493553559, 0.14952125120948379, 0.13557167038122814, 0.1410857055593282, 0.13755558048846822, 0.13230433967593125, 0.1340204933011749], 'RMSProp': [2.9044491924285887, 2.3024377548217774, 2.3025055923461912, 2.3027291613260905, 2.3025638440450034, 2.3025048749287924, 2.3024386220296225, 2.3024813311258954, 2.302507264963786, 2.3025993216196694], 'AdaDelta': [0.7781204207539558, 0.2291564167012771, 0.1638249838642776, 0.12956143487070998, 0.10857129003331065, 0.09518203043763836, 0.08471356219289203, 0.07736568645052612, 0.07143653181760261, 0.0665165514052535], 'Ranger': [0.14260838257526048, 0.06472640082087018, 0.049428286621800724, 0.04254871656668159, 0.03978037537699195, 0.0454243067814861, 0.03357938855154111, 0.03548192477852238, 0.03248710534589826, 0.035468346355313894]}\n",
    "test_accuracy = {'SGD': 98.89, 'Adam': 96.27, 'RMSProp': 11.35, 'AdaDelta': 98.25, 'Ranger': 98.72}\n",
    "convergence_rate = {'SGD': [-0.3991270355040829, -0.035419001481433704, -0.015470566117142648, -0.01072875734788055, -0.007178983483494571, -0.004957504809865107, -0.004915205081381525, -0.0039080520081023334, -0.0023171227316527328], 'Adam': [-0.17874827800430354, -0.017596519555151485, -0.0074852366309612894, -0.0014494981458721135, -0.013949580828255648, 0.005514035178100063, -0.0035301250708599796, -0.0052512408125369725, 0.0017161536252436604], 'RMSProp': [-0.6020114376068113, 6.78375244138607e-05, 0.00022356897989928015, -0.0001653172810871517, -5.896911621094958e-05, -6.625289916994959e-05, 4.27090962729082e-05, 2.5933837890512734e-05, 9.205665588352119e-05], 'AdaDelta': [-0.5489640040526788, -0.06533143283699949, -0.03426354899356762, -0.020990144837399333, -0.01338925959567229, -0.010468468244746329, -0.007347875742365909, -0.005929154632923511, -0.004919980412349104], 'Ranger': [-0.0778819817543903, -0.015298114199069457, -0.006879570055119133, -0.0027683411896896395, 0.005643931404494151, -0.01184491822994499, 0.0019025362269812704, -0.0029948194326241268, 0.0029812410094156375]}"
   ]
  },
  {
   "cell_type": "code",
   "execution_count": 34,
   "metadata": {},
   "outputs": [
    {
     "name": "stdout",
     "output_type": "stream",
     "text": [
      "\n",
      "Training with Prodigy optimizer:\n"
     ]
    },
    {
     "name": "stderr",
     "output_type": "stream",
     "text": [
      "Test: 100%|██████████| 94/94 [00:02<00:00, 33.12batch/s]33.08batch/s, loss=0.112] \n",
      "Train Epoch 1: 100%|██████████| 1875/1875 [01:01<00:00, 30.33batch/s, loss=0.112]\n"
     ]
    },
    {
     "name": "stdout",
     "output_type": "stream",
     "text": [
      "[Epoch 1] Loss: 0.913, Validation Accuracy: 96.58 %\n"
     ]
    },
    {
     "name": "stderr",
     "output_type": "stream",
     "text": [
      "Test: 100%|██████████| 94/94 [00:02<00:00, 36.76batch/s]33.57batch/s, loss=0.0896] \n",
      "Train Epoch 2: 100%|██████████| 1875/1875 [01:00<00:00, 31.07batch/s, loss=0.0896]\n"
     ]
    },
    {
     "name": "stdout",
     "output_type": "stream",
     "text": [
      "[Epoch 2] Loss: 0.096, Validation Accuracy: 98.04 %\n"
     ]
    },
    {
     "name": "stderr",
     "output_type": "stream",
     "text": [
      "Test: 100%|██████████| 94/94 [00:02<00:00, 36.59batch/s]32.39batch/s, loss=0.128]  \n",
      "Train Epoch 3: 100%|██████████| 1875/1875 [01:01<00:00, 30.47batch/s, loss=0.128]\n"
     ]
    },
    {
     "name": "stdout",
     "output_type": "stream",
     "text": [
      "[Epoch 3] Loss: 0.065, Validation Accuracy: 98.71 %\n"
     ]
    },
    {
     "name": "stderr",
     "output_type": "stream",
     "text": [
      "Test: 100%|██████████| 94/94 [00:02<00:00, 38.31batch/s]33.06batch/s, loss=0.12]    \n",
      "Train Epoch 4: 100%|██████████| 1875/1875 [00:59<00:00, 31.49batch/s, loss=0.12]\n"
     ]
    },
    {
     "name": "stdout",
     "output_type": "stream",
     "text": [
      "[Epoch 4] Loss: 0.051, Validation Accuracy: 98.89 %\n"
     ]
    },
    {
     "name": "stderr",
     "output_type": "stream",
     "text": [
      "Test: 100%|██████████| 94/94 [00:02<00:00, 38.46batch/s]33.23batch/s, loss=0.12]    \n",
      "Train Epoch 5: 100%|██████████| 1875/1875 [00:59<00:00, 31.26batch/s, loss=0.12]\n"
     ]
    },
    {
     "name": "stdout",
     "output_type": "stream",
     "text": [
      "[Epoch 5] Loss: 0.041, Validation Accuracy: 98.94 %\n"
     ]
    },
    {
     "name": "stderr",
     "output_type": "stream",
     "text": [
      "Test: 100%|██████████| 94/94 [00:02<00:00, 37.24batch/s]33.35batch/s, loss=0.0005]  \n",
      "Train Epoch 6: 100%|██████████| 1875/1875 [00:59<00:00, 31.66batch/s, loss=0.0005]\n"
     ]
    },
    {
     "name": "stdout",
     "output_type": "stream",
     "text": [
      "[Epoch 6] Loss: 0.035, Validation Accuracy: 99.15 %\n"
     ]
    },
    {
     "name": "stderr",
     "output_type": "stream",
     "text": [
      "Test: 100%|██████████| 94/94 [00:02<00:00, 36.77batch/s]31.30batch/s, loss=0.00436] \n",
      "Train Epoch 7: 100%|██████████| 1875/1875 [00:59<00:00, 31.46batch/s, loss=0.00436]\n"
     ]
    },
    {
     "name": "stdout",
     "output_type": "stream",
     "text": [
      "[Epoch 7] Loss: 0.030, Validation Accuracy: 99.38 %\n"
     ]
    },
    {
     "name": "stderr",
     "output_type": "stream",
     "text": [
      "Test: 100%|██████████| 94/94 [00:02<00:00, 37.17batch/s]33.13batch/s, loss=0.00116] \n",
      "Train Epoch 8: 100%|██████████| 1875/1875 [00:59<00:00, 31.37batch/s, loss=0.00116]\n"
     ]
    },
    {
     "name": "stdout",
     "output_type": "stream",
     "text": [
      "[Epoch 8] Loss: 0.026, Validation Accuracy: 99.47 %\n"
     ]
    },
    {
     "name": "stderr",
     "output_type": "stream",
     "text": [
      "Test: 100%|██████████| 94/94 [00:02<00:00, 38.11batch/s]32.39batch/s, loss=0.00116] \n",
      "Train Epoch 9: 100%|██████████| 1875/1875 [00:59<00:00, 31.34batch/s, loss=0.00116]\n"
     ]
    },
    {
     "name": "stdout",
     "output_type": "stream",
     "text": [
      "[Epoch 9] Loss: 0.022, Validation Accuracy: 99.47 %\n"
     ]
    },
    {
     "name": "stderr",
     "output_type": "stream",
     "text": [
      "Test: 100%|██████████| 94/94 [00:02<00:00, 37.20batch/s] 33.18batch/s, loss=0.00206] \n",
      "Train Epoch 10: 100%|██████████| 1875/1875 [00:59<00:00, 31.41batch/s, loss=0.00206]\n"
     ]
    },
    {
     "name": "stdout",
     "output_type": "stream",
     "text": [
      "[Epoch 10] Loss: 0.020, Validation Accuracy: 99.68 %\n"
     ]
    },
    {
     "name": "stderr",
     "output_type": "stream",
     "text": [
      "Test: 100%|██████████| 313/313 [00:02<00:00, 119.13batch/s]\n"
     ]
    },
    {
     "name": "stdout",
     "output_type": "stream",
     "text": [
      "Accuracy on test set: 98.89 %\n",
      "\n",
      "Training with NAG optimizer:\n"
     ]
    },
    {
     "name": "stderr",
     "output_type": "stream",
     "text": [
      "Test: 100%|██████████| 94/94 [00:03<00:00, 29.60batch/s]63.40batch/s, loss=0.224] \n",
      "Train Epoch 1: 100%|██████████| 1875/1875 [00:32<00:00, 57.44batch/s, loss=0.224]\n"
     ]
    },
    {
     "name": "stdout",
     "output_type": "stream",
     "text": [
      "[Epoch 1] Loss: 0.536, Validation Accuracy: 96.32 %\n"
     ]
    },
    {
     "name": "stderr",
     "output_type": "stream",
     "text": [
      "Test: 100%|██████████| 94/94 [00:02<00:00, 38.64batch/s]66.60batch/s, loss=0.627]  \n",
      "Train Epoch 2: 100%|██████████| 1875/1875 [00:31<00:00, 59.92batch/s, loss=0.627]\n"
     ]
    },
    {
     "name": "stdout",
     "output_type": "stream",
     "text": [
      "[Epoch 2] Loss: 0.113, Validation Accuracy: 97.67 %\n"
     ]
    },
    {
     "name": "stderr",
     "output_type": "stream",
     "text": [
      "Test: 100%|██████████| 94/94 [00:02<00:00, 36.24batch/s]68.41batch/s, loss=0.154]  \n",
      "Train Epoch 3: 100%|██████████| 1875/1875 [00:31<00:00, 59.17batch/s, loss=0.154]\n"
     ]
    },
    {
     "name": "stdout",
     "output_type": "stream",
     "text": [
      "[Epoch 3] Loss: 0.080, Validation Accuracy: 98.08 %\n"
     ]
    },
    {
     "name": "stderr",
     "output_type": "stream",
     "text": [
      "Test: 100%|██████████| 94/94 [00:02<00:00, 35.85batch/s]69.10batch/s, loss=0.0649] \n",
      "Train Epoch 4: 100%|██████████| 1875/1875 [00:31<00:00, 59.54batch/s, loss=0.0649]\n"
     ]
    },
    {
     "name": "stdout",
     "output_type": "stream",
     "text": [
      "[Epoch 4] Loss: 0.064, Validation Accuracy: 98.40 %\n"
     ]
    },
    {
     "name": "stderr",
     "output_type": "stream",
     "text": [
      "Test: 100%|██████████| 94/94 [00:02<00:00, 37.50batch/s]56.44batch/s, loss=0.0149]  \n",
      "Train Epoch 5: 100%|██████████| 1875/1875 [00:30<00:00, 62.15batch/s, loss=0.0149]\n"
     ]
    },
    {
     "name": "stdout",
     "output_type": "stream",
     "text": [
      "[Epoch 5] Loss: 0.054, Validation Accuracy: 98.42 %\n"
     ]
    },
    {
     "name": "stderr",
     "output_type": "stream",
     "text": [
      "Test: 100%|██████████| 94/94 [00:02<00:00, 41.96batch/s]66.71batch/s, loss=0.00986] \n",
      "Train Epoch 6: 100%|██████████| 1875/1875 [00:30<00:00, 60.56batch/s, loss=0.00986]\n"
     ]
    },
    {
     "name": "stdout",
     "output_type": "stream",
     "text": [
      "[Epoch 6] Loss: 0.047, Validation Accuracy: 98.91 %\n"
     ]
    },
    {
     "name": "stderr",
     "output_type": "stream",
     "text": [
      "Test: 100%|██████████| 94/94 [00:02<00:00, 32.00batch/s]65.69batch/s, loss=0.02]    \n",
      "Train Epoch 7: 100%|██████████| 1875/1875 [00:32<00:00, 57.04batch/s, loss=0.02]\n"
     ]
    },
    {
     "name": "stdout",
     "output_type": "stream",
     "text": [
      "[Epoch 7] Loss: 0.042, Validation Accuracy: 99.00 %\n"
     ]
    },
    {
     "name": "stderr",
     "output_type": "stream",
     "text": [
      "Test: 100%|██████████| 94/94 [00:02<00:00, 32.83batch/s]62.34batch/s, loss=0.0433]  \n",
      "Train Epoch 8: 100%|██████████| 1875/1875 [00:31<00:00, 59.74batch/s, loss=0.0433]\n"
     ]
    },
    {
     "name": "stdout",
     "output_type": "stream",
     "text": [
      "[Epoch 8] Loss: 0.038, Validation Accuracy: 99.17 %\n"
     ]
    },
    {
     "name": "stderr",
     "output_type": "stream",
     "text": [
      "Test: 100%|██████████| 94/94 [00:02<00:00, 41.05batch/s]70.49batch/s, loss=0.0487]  \n",
      "Train Epoch 9: 100%|██████████| 1875/1875 [00:30<00:00, 62.40batch/s, loss=0.0487]\n"
     ]
    },
    {
     "name": "stdout",
     "output_type": "stream",
     "text": [
      "[Epoch 9] Loss: 0.034, Validation Accuracy: 99.12 %\n"
     ]
    },
    {
     "name": "stderr",
     "output_type": "stream",
     "text": [
      "Test: 100%|██████████| 94/94 [00:03<00:00, 27.07batch/s] 67.93batch/s, loss=0.00985] \n",
      "Train Epoch 10: 100%|██████████| 1875/1875 [00:31<00:00, 59.68batch/s, loss=0.00985]\n"
     ]
    },
    {
     "name": "stdout",
     "output_type": "stream",
     "text": [
      "[Epoch 10] Loss: 0.032, Validation Accuracy: 99.30 %\n"
     ]
    },
    {
     "name": "stderr",
     "output_type": "stream",
     "text": [
      "Test: 100%|██████████| 313/313 [00:02<00:00, 135.46batch/s]\n"
     ]
    },
    {
     "name": "stdout",
     "output_type": "stream",
     "text": [
      "Accuracy on test set: 98.82 %\n",
      "\n",
      "Training with ProxSG optimizer:\n"
     ]
    },
    {
     "name": "stderr",
     "output_type": "stream",
     "text": [
      "Test: 100%|██████████| 94/94 [00:02<00:00, 33.45batch/s]11.02batch/s, loss=0.283] \n",
      "Train Epoch 1: 100%|██████████| 1875/1875 [02:36<00:00, 12.00batch/s, loss=0.283]\n"
     ]
    },
    {
     "name": "stdout",
     "output_type": "stream",
     "text": [
      "[Epoch 1] Loss: 0.624, Validation Accuracy: 93.81 %\n"
     ]
    },
    {
     "name": "stderr",
     "output_type": "stream",
     "text": [
      "Test: 100%|██████████| 94/94 [00:03<00:00, 31.10batch/s]11.40batch/s, loss=0.0776] \n",
      "Train Epoch 2: 100%|██████████| 1875/1875 [02:44<00:00, 11.37batch/s, loss=0.0776]\n"
     ]
    },
    {
     "name": "stdout",
     "output_type": "stream",
     "text": [
      "[Epoch 2] Loss: 0.136, Validation Accuracy: 97.39 %\n"
     ]
    },
    {
     "name": "stderr",
     "output_type": "stream",
     "text": [
      "Test: 100%|██████████| 94/94 [00:02<00:00, 38.43batch/s]11.95batch/s, loss=0.15]   \n",
      "Train Epoch 3: 100%|██████████| 1875/1875 [02:47<00:00, 11.18batch/s, loss=0.15]\n"
     ]
    },
    {
     "name": "stdout",
     "output_type": "stream",
     "text": [
      "[Epoch 3] Loss: 0.092, Validation Accuracy: 97.92 %\n"
     ]
    },
    {
     "name": "stderr",
     "output_type": "stream",
     "text": [
      "Test: 100%|██████████| 94/94 [00:03<00:00, 30.49batch/s]11.72batch/s, loss=0.0877] \n",
      "Train Epoch 4: 100%|██████████| 1875/1875 [02:49<00:00, 11.08batch/s, loss=0.0877]\n"
     ]
    },
    {
     "name": "stdout",
     "output_type": "stream",
     "text": [
      "[Epoch 4] Loss: 0.077, Validation Accuracy: 97.81 %\n"
     ]
    },
    {
     "name": "stderr",
     "output_type": "stream",
     "text": [
      "Test: 100%|██████████| 94/94 [00:02<00:00, 37.47batch/s]11.44batch/s, loss=0.0655] \n",
      "Train Epoch 5: 100%|██████████| 1875/1875 [02:48<00:00, 11.10batch/s, loss=0.0655]\n"
     ]
    },
    {
     "name": "stdout",
     "output_type": "stream",
     "text": [
      "[Epoch 5] Loss: 0.067, Validation Accuracy: 98.38 %\n"
     ]
    },
    {
     "name": "stderr",
     "output_type": "stream",
     "text": [
      "Test: 100%|██████████| 94/94 [00:02<00:00, 38.80batch/s]11.43batch/s, loss=0.0472] \n",
      "Train Epoch 6: 100%|██████████| 1875/1875 [02:51<00:00, 10.91batch/s, loss=0.0472]\n"
     ]
    },
    {
     "name": "stdout",
     "output_type": "stream",
     "text": [
      "[Epoch 6] Loss: 0.062, Validation Accuracy: 98.65 %\n"
     ]
    },
    {
     "name": "stderr",
     "output_type": "stream",
     "text": [
      "Test: 100%|██████████| 94/94 [00:02<00:00, 32.27batch/s]10.69batch/s, loss=0.00764]\n",
      "Train Epoch 7: 100%|██████████| 1875/1875 [02:49<00:00, 11.05batch/s, loss=0.00764]\n"
     ]
    },
    {
     "name": "stdout",
     "output_type": "stream",
     "text": [
      "[Epoch 7] Loss: 0.057, Validation Accuracy: 98.66 %\n"
     ]
    },
    {
     "name": "stderr",
     "output_type": "stream",
     "text": [
      "Test: 100%|██████████| 94/94 [00:02<00:00, 38.40batch/s]11.36batch/s, loss=0.0171] \n",
      "Train Epoch 8: 100%|██████████| 1875/1875 [02:47<00:00, 11.17batch/s, loss=0.0171]\n"
     ]
    },
    {
     "name": "stdout",
     "output_type": "stream",
     "text": [
      "[Epoch 8] Loss: 0.055, Validation Accuracy: 98.73 %\n"
     ]
    },
    {
     "name": "stderr",
     "output_type": "stream",
     "text": [
      "Test: 100%|██████████| 94/94 [00:02<00:00, 37.98batch/s]11.13batch/s, loss=0.0505] \n",
      "Train Epoch 9: 100%|██████████| 1875/1875 [02:49<00:00, 11.05batch/s, loss=0.0505]\n"
     ]
    },
    {
     "name": "stdout",
     "output_type": "stream",
     "text": [
      "[Epoch 9] Loss: 0.052, Validation Accuracy: 98.78 %\n"
     ]
    },
    {
     "name": "stderr",
     "output_type": "stream",
     "text": [
      "Test: 100%|██████████| 94/94 [00:02<00:00, 37.41batch/s] 11.34batch/s, loss=0.0184] \n",
      "Train Epoch 10: 100%|██████████| 1875/1875 [02:51<00:00, 10.94batch/s, loss=0.0184]\n"
     ]
    },
    {
     "name": "stdout",
     "output_type": "stream",
     "text": [
      "[Epoch 10] Loss: 0.049, Validation Accuracy: 98.69 %\n"
     ]
    },
    {
     "name": "stderr",
     "output_type": "stream",
     "text": [
      "Test: 100%|██████████| 313/313 [00:02<00:00, 130.27batch/s]\n"
     ]
    },
    {
     "name": "stdout",
     "output_type": "stream",
     "text": [
      "Accuracy on test set: 98.49 %\n",
      "\n",
      "Training with Storm optimizer:\n"
     ]
    },
    {
     "name": "stderr",
     "output_type": "stream",
     "text": [
      "Test: 100%|██████████| 94/94 [00:02<00:00, 41.92batch/s]38.92batch/s, loss=0.676]\n",
      "Train Epoch 1: 100%|██████████| 1875/1875 [00:52<00:00, 35.41batch/s, loss=0.676]\n"
     ]
    },
    {
     "name": "stdout",
     "output_type": "stream",
     "text": [
      "[Epoch 1] Loss: 1.363, Validation Accuracy: 86.51 %\n"
     ]
    },
    {
     "name": "stderr",
     "output_type": "stream",
     "text": [
      "Test: 100%|██████████| 94/94 [00:02<00:00, 42.56batch/s]38.09batch/s, loss=0.359]\n",
      "Train Epoch 2: 100%|██████████| 1875/1875 [00:52<00:00, 35.50batch/s, loss=0.359]\n"
     ]
    },
    {
     "name": "stdout",
     "output_type": "stream",
     "text": [
      "[Epoch 2] Loss: 0.466, Validation Accuracy: 90.13 %\n"
     ]
    },
    {
     "name": "stderr",
     "output_type": "stream",
     "text": [
      "Train Epoch 3:   2%|▏         | 33/1875 [00:01<00:58, 31.45batch/s, loss=0.313]\n"
     ]
    },
    {
     "ename": "RuntimeError",
     "evalue": "MPS backend out of memory (MPS allocated: 9.06 GB, other allocations: 4.88 MB, max allowed: 9.07 GB). Tried to allocate 784.00 KB on private pool. Use PYTORCH_MPS_HIGH_WATERMARK_RATIO=0.0 to disable upper limit for memory allocations (may cause system failure).",
     "output_type": "error",
     "traceback": [
      "\u001b[0;31m---------------------------------------------------------------------------\u001b[0m",
      "\u001b[0;31mRuntimeError\u001b[0m                              Traceback (most recent call last)",
      "Cell \u001b[0;32mIn[34], line 12\u001b[0m\n\u001b[1;32m      9\u001b[0m     optimizer \u001b[38;5;241m=\u001b[39m opt_fn(model\u001b[38;5;241m.\u001b[39mparameters(), lr\u001b[38;5;241m=\u001b[39m\u001b[38;5;241m0.01\u001b[39m)\n\u001b[1;32m     11\u001b[0m criterion \u001b[38;5;241m=\u001b[39m nn\u001b[38;5;241m.\u001b[39mCrossEntropyLoss()\n\u001b[0;32m---> 12\u001b[0m losses \u001b[38;5;241m=\u001b[39m \u001b[43mtrain\u001b[49m\u001b[43m(\u001b[49m\u001b[43mmodel\u001b[49m\u001b[43m,\u001b[49m\u001b[43m \u001b[49m\u001b[43moptimizer\u001b[49m\u001b[43m,\u001b[49m\u001b[43m \u001b[49m\u001b[43mcriterion\u001b[49m\u001b[43m,\u001b[49m\u001b[43m \u001b[49m\u001b[43mtrainloader\u001b[49m\u001b[43m,\u001b[49m\u001b[43m \u001b[49m\u001b[43mvalloader\u001b[49m\u001b[43m,\u001b[49m\u001b[43m \u001b[49m\u001b[43mopt_name\u001b[49m\u001b[43m,\u001b[49m\u001b[43m \u001b[49m\u001b[38;5;241;43m10\u001b[39;49m\u001b[43m)\u001b[49m\n\u001b[1;32m     13\u001b[0m conv_rate \u001b[38;5;241m=\u001b[39m [losses[i] \u001b[38;5;241m-\u001b[39m losses[i\u001b[38;5;241m-\u001b[39m\u001b[38;5;241m1\u001b[39m] \u001b[38;5;28;01mfor\u001b[39;00m i \u001b[38;5;129;01min\u001b[39;00m \u001b[38;5;28mrange\u001b[39m(\u001b[38;5;241m1\u001b[39m, \u001b[38;5;28mlen\u001b[39m(losses))]\n\u001b[1;32m     15\u001b[0m \u001b[38;5;66;03m# Load the best model for testing\u001b[39;00m\n",
      "Cell \u001b[0;32mIn[32], line 15\u001b[0m, in \u001b[0;36mtrain\u001b[0;34m(model, optimizer, criterion, trainloader, valloader, opt_name, epochs)\u001b[0m\n\u001b[1;32m     13\u001b[0m outputs \u001b[38;5;241m=\u001b[39m model(inputs)\n\u001b[1;32m     14\u001b[0m loss \u001b[38;5;241m=\u001b[39m criterion(outputs, labels)\n\u001b[0;32m---> 15\u001b[0m \u001b[43mloss\u001b[49m\u001b[38;5;241;43m.\u001b[39;49m\u001b[43mbackward\u001b[49m\u001b[43m(\u001b[49m\u001b[43m)\u001b[49m\n\u001b[1;32m     16\u001b[0m optimizer\u001b[38;5;241m.\u001b[39mstep()\n\u001b[1;32m     17\u001b[0m running_loss \u001b[38;5;241m+\u001b[39m\u001b[38;5;241m=\u001b[39m loss\u001b[38;5;241m.\u001b[39mitem()\n",
      "File \u001b[0;32m~/Documents/Convex Optimization/Final Project/computer-vision/lib/python3.9/site-packages/torch/_tensor.py:522\u001b[0m, in \u001b[0;36mTensor.backward\u001b[0;34m(self, gradient, retain_graph, create_graph, inputs)\u001b[0m\n\u001b[1;32m    512\u001b[0m \u001b[38;5;28;01mif\u001b[39;00m has_torch_function_unary(\u001b[38;5;28mself\u001b[39m):\n\u001b[1;32m    513\u001b[0m     \u001b[38;5;28;01mreturn\u001b[39;00m handle_torch_function(\n\u001b[1;32m    514\u001b[0m         Tensor\u001b[38;5;241m.\u001b[39mbackward,\n\u001b[1;32m    515\u001b[0m         (\u001b[38;5;28mself\u001b[39m,),\n\u001b[0;32m   (...)\u001b[0m\n\u001b[1;32m    520\u001b[0m         inputs\u001b[38;5;241m=\u001b[39minputs,\n\u001b[1;32m    521\u001b[0m     )\n\u001b[0;32m--> 522\u001b[0m \u001b[43mtorch\u001b[49m\u001b[38;5;241;43m.\u001b[39;49m\u001b[43mautograd\u001b[49m\u001b[38;5;241;43m.\u001b[39;49m\u001b[43mbackward\u001b[49m\u001b[43m(\u001b[49m\n\u001b[1;32m    523\u001b[0m \u001b[43m    \u001b[49m\u001b[38;5;28;43mself\u001b[39;49m\u001b[43m,\u001b[49m\u001b[43m \u001b[49m\u001b[43mgradient\u001b[49m\u001b[43m,\u001b[49m\u001b[43m \u001b[49m\u001b[43mretain_graph\u001b[49m\u001b[43m,\u001b[49m\u001b[43m \u001b[49m\u001b[43mcreate_graph\u001b[49m\u001b[43m,\u001b[49m\u001b[43m \u001b[49m\u001b[43minputs\u001b[49m\u001b[38;5;241;43m=\u001b[39;49m\u001b[43minputs\u001b[49m\n\u001b[1;32m    524\u001b[0m \u001b[43m\u001b[49m\u001b[43m)\u001b[49m\n",
      "File \u001b[0;32m~/Documents/Convex Optimization/Final Project/computer-vision/lib/python3.9/site-packages/torch/autograd/__init__.py:266\u001b[0m, in \u001b[0;36mbackward\u001b[0;34m(tensors, grad_tensors, retain_graph, create_graph, grad_variables, inputs)\u001b[0m\n\u001b[1;32m    261\u001b[0m     retain_graph \u001b[38;5;241m=\u001b[39m create_graph\n\u001b[1;32m    263\u001b[0m \u001b[38;5;66;03m# The reason we repeat the same comment below is that\u001b[39;00m\n\u001b[1;32m    264\u001b[0m \u001b[38;5;66;03m# some Python versions print out the first line of a multi-line function\u001b[39;00m\n\u001b[1;32m    265\u001b[0m \u001b[38;5;66;03m# calls in the traceback and some print out the last line\u001b[39;00m\n\u001b[0;32m--> 266\u001b[0m \u001b[43mVariable\u001b[49m\u001b[38;5;241;43m.\u001b[39;49m\u001b[43m_execution_engine\u001b[49m\u001b[38;5;241;43m.\u001b[39;49m\u001b[43mrun_backward\u001b[49m\u001b[43m(\u001b[49m\u001b[43m  \u001b[49m\u001b[38;5;66;43;03m# Calls into the C++ engine to run the backward pass\u001b[39;49;00m\n\u001b[1;32m    267\u001b[0m \u001b[43m    \u001b[49m\u001b[43mtensors\u001b[49m\u001b[43m,\u001b[49m\n\u001b[1;32m    268\u001b[0m \u001b[43m    \u001b[49m\u001b[43mgrad_tensors_\u001b[49m\u001b[43m,\u001b[49m\n\u001b[1;32m    269\u001b[0m \u001b[43m    \u001b[49m\u001b[43mretain_graph\u001b[49m\u001b[43m,\u001b[49m\n\u001b[1;32m    270\u001b[0m \u001b[43m    \u001b[49m\u001b[43mcreate_graph\u001b[49m\u001b[43m,\u001b[49m\n\u001b[1;32m    271\u001b[0m \u001b[43m    \u001b[49m\u001b[43minputs\u001b[49m\u001b[43m,\u001b[49m\n\u001b[1;32m    272\u001b[0m \u001b[43m    \u001b[49m\u001b[43mallow_unreachable\u001b[49m\u001b[38;5;241;43m=\u001b[39;49m\u001b[38;5;28;43;01mTrue\u001b[39;49;00m\u001b[43m,\u001b[49m\n\u001b[1;32m    273\u001b[0m \u001b[43m    \u001b[49m\u001b[43maccumulate_grad\u001b[49m\u001b[38;5;241;43m=\u001b[39;49m\u001b[38;5;28;43;01mTrue\u001b[39;49;00m\u001b[43m,\u001b[49m\n\u001b[1;32m    274\u001b[0m \u001b[43m\u001b[49m\u001b[43m)\u001b[49m\n",
      "\u001b[0;31mRuntimeError\u001b[0m: MPS backend out of memory (MPS allocated: 9.06 GB, other allocations: 4.88 MB, max allowed: 9.07 GB). Tried to allocate 784.00 KB on private pool. Use PYTORCH_MPS_HIGH_WATERMARK_RATIO=0.0 to disable upper limit for memory allocations (may cause system failure)."
     ]
    }
   ],
   "source": [
    "# Part 2\n",
    "for opt_fn, opt_name in zip(optimizers_2, optimizer_names_2):\n",
    "    print(f\"\\nTraining with {opt_name} optimizer:\")\n",
    "    model = CNN().to(device)\n",
    "\n",
    "    if opt_name == 'ProxSG':\n",
    "        optimizer = opt_fn(model.parameters(), lr=0.01, lambda_=0.0001)\n",
    "    else:\n",
    "        optimizer = opt_fn(model.parameters(), lr=0.01)\n",
    "    \n",
    "    criterion = nn.CrossEntropyLoss()\n",
    "    losses = train(model, optimizer, criterion, trainloader, valloader, opt_name, 10)\n",
    "    conv_rate = [losses[i] - losses[i-1] for i in range(1, len(losses))]\n",
    "\n",
    "    # Load the best model for testing\n",
    "    model.load_state_dict(torch.load(f\"best_{opt_name}.pkl\"))\n",
    "    accuracy = evaluate(model, 1, testloader)\n",
    "\n",
    "    train_loss[opt_name] = losses\n",
    "    test_accuracy[opt_name] = accuracy\n",
    "    convergence_rate[opt_name] = conv_rate "
   ]
  },
  {
   "cell_type": "code",
   "execution_count": 35,
   "metadata": {},
   "outputs": [
    {
     "name": "stdout",
     "output_type": "stream",
     "text": [
      "train_loss: {'SGD': [0.5149847493459782, 0.11585771384189526, 0.08043871236046156, 0.06496814624331891, 0.05423938889543836, 0.04706040541194379, 0.042102900602078684, 0.03718769552069716, 0.033279643512594825, 0.030962520780942093], 'Adam': [0.3548007835457722, 0.17605250554146867, 0.1584559859863172, 0.1509707493553559, 0.14952125120948379, 0.13557167038122814, 0.1410857055593282, 0.13755558048846822, 0.13230433967593125, 0.1340204933011749], 'RMSProp': [2.9044491924285887, 2.3024377548217774, 2.3025055923461912, 2.3027291613260905, 2.3025638440450034, 2.3025048749287924, 2.3024386220296225, 2.3024813311258954, 2.302507264963786, 2.3025993216196694], 'AdaDelta': [0.7781204207539558, 0.2291564167012771, 0.1638249838642776, 0.12956143487070998, 0.10857129003331065, 0.09518203043763836, 0.08471356219289203, 0.07736568645052612, 0.07143653181760261, 0.0665165514052535], 'Ranger': [0.14260838257526048, 0.06472640082087018, 0.049428286621800724, 0.04254871656668159, 0.03978037537699195, 0.0454243067814861, 0.03357938855154111, 0.03548192477852238, 0.03248710534589826, 0.035468346355313894], 'Prodigy': [0.9126006396993994, 0.09585636694369216, 0.06471902315641442, 0.0508197663120615, 0.041241443452580524, 0.03527951301974244, 0.030355438923540836, 0.025802090094378217, 0.02215259080879623, 0.019769822041178123], 'NAG': [0.5355635120640199, 0.11321581410889824, 0.07961149012409151, 0.06359083137772978, 0.05408444507597014, 0.04700232884828001, 0.04165548707625518, 0.037530585099446276, 0.03399905021145629, 0.03152563482049542], 'ProxSG': [0.6244183901578187, 0.13560362442806362, 0.092194007854412, 0.07721952008095881, 0.06710556777926782, 0.06189468790429334, 0.05729272114448249, 0.054588996387521425, 0.05183957738901178, 0.04928408771002044]}\n",
      "test_accuracy: {'SGD': 98.89, 'Adam': 96.27, 'RMSProp': 11.35, 'AdaDelta': 98.25, 'Ranger': 98.72, 'Prodigy': 98.89, 'NAG': 98.82, 'ProxSG': 98.49}\n",
      "convergence_rate: {'SGD': [-0.3991270355040829, -0.035419001481433704, -0.015470566117142648, -0.01072875734788055, -0.007178983483494571, -0.004957504809865107, -0.004915205081381525, -0.0039080520081023334, -0.0023171227316527328], 'Adam': [-0.17874827800430354, -0.017596519555151485, -0.0074852366309612894, -0.0014494981458721135, -0.013949580828255648, 0.005514035178100063, -0.0035301250708599796, -0.0052512408125369725, 0.0017161536252436604], 'RMSProp': [-0.6020114376068113, 6.78375244138607e-05, 0.00022356897989928015, -0.0001653172810871517, -5.896911621094958e-05, -6.625289916994959e-05, 4.27090962729082e-05, 2.5933837890512734e-05, 9.205665588352119e-05], 'AdaDelta': [-0.5489640040526788, -0.06533143283699949, -0.03426354899356762, -0.020990144837399333, -0.01338925959567229, -0.010468468244746329, -0.007347875742365909, -0.005929154632923511, -0.004919980412349104], 'Ranger': [-0.0778819817543903, -0.015298114199069457, -0.006879570055119133, -0.0027683411896896395, 0.005643931404494151, -0.01184491822994499, 0.0019025362269812704, -0.0029948194326241268, 0.0029812410094156375], 'Prodigy': [-0.8167442727557073, -0.03113734378727774, -0.013899256844352927, -0.009578322859480973, -0.005961930432838082, -0.004924074096201606, -0.004553348829162619, -0.0036494992855819856, -0.0023827687676181084], 'NAG': [-0.4223476979551216, -0.03360432398480673, -0.01602065874636173, -0.009506386301759637, -0.00708211622769013, -0.005346841772024831, -0.004124901976808905, -0.003531534887989983, -0.0024734153909608744], 'ProxSG': [-0.48881476572975513, -0.043409616573651624, -0.014974487773453185, -0.010113952301690987, -0.005210879874974483, -0.004601966759810845, -0.002703724756961068, -0.0027494189985096465, -0.0025554896789913364]}\n"
     ]
    }
   ],
   "source": [
    "print(f'train_loss: {train_loss}')\n",
    "print(f'test_accuracy: {test_accuracy}')\n",
    "print(f'convergence_rate: {convergence_rate}') "
   ]
  },
  {
   "cell_type": "code",
   "execution_count": 17,
   "metadata": {},
   "outputs": [],
   "source": [
    "train_loss = {'SGD': [0.5149847493459782, 0.11585771384189526, 0.08043871236046156, 0.06496814624331891, 0.05423938889543836, 0.04706040541194379, 0.042102900602078684, 0.03718769552069716, 0.033279643512594825, 0.030962520780942093], 'Adam': [0.3548007835457722, 0.17605250554146867, 0.1584559859863172, 0.1509707493553559, 0.14952125120948379, 0.13557167038122814, 0.1410857055593282, 0.13755558048846822, 0.13230433967593125, 0.1340204933011749], 'RMSProp': [2.9044491924285887, 2.3024377548217774, 2.3025055923461912, 2.3027291613260905, 2.3025638440450034, 2.3025048749287924, 2.3024386220296225, 2.3024813311258954, 2.302507264963786, 2.3025993216196694], 'AdaDelta': [0.7781204207539558, 0.2291564167012771, 0.1638249838642776, 0.12956143487070998, 0.10857129003331065, 0.09518203043763836, 0.08471356219289203, 0.07736568645052612, 0.07143653181760261, 0.0665165514052535], 'Ranger': [0.14260838257526048, 0.06472640082087018, 0.049428286621800724, 0.04254871656668159, 0.03978037537699195, 0.0454243067814861, 0.03357938855154111, 0.03548192477852238, 0.03248710534589826, 0.035468346355313894], 'Prodigy': [0.9126006396993994, 0.09585636694369216, 0.06471902315641442, 0.0508197663120615, 0.041241443452580524, 0.03527951301974244, 0.030355438923540836, 0.025802090094378217, 0.02215259080879623, 0.019769822041178123], 'NAG': [0.5355635120640199, 0.11321581410889824, 0.07961149012409151, 0.06359083137772978, 0.05408444507597014, 0.04700232884828001, 0.04165548707625518, 0.037530585099446276, 0.03399905021145629, 0.03152563482049542], 'ProxSG': [0.6244183901578187, 0.13560362442806362, 0.092194007854412, 0.07721952008095881, 0.06710556777926782, 0.06189468790429334, 0.05729272114448249, 0.054588996387521425, 0.05183957738901178, 0.04928408771002044]}\n",
    "test_accuracy = {'SGD': 98.89, 'Adam': 96.27, 'RMSProp': 11.35, 'AdaDelta': 98.25, 'Ranger': 98.72, 'Prodigy': 98.89, 'NAG': 98.82, 'ProxSG': 98.49}\n",
    "convergence_rate = {'SGD': [-0.3991270355040829, -0.035419001481433704, -0.015470566117142648, -0.01072875734788055, -0.007178983483494571, -0.004957504809865107, -0.004915205081381525, -0.0039080520081023334, -0.0023171227316527328], 'Adam': [-0.17874827800430354, -0.017596519555151485, -0.0074852366309612894, -0.0014494981458721135, -0.013949580828255648, 0.005514035178100063, -0.0035301250708599796, -0.0052512408125369725, 0.0017161536252436604], 'RMSProp': [-0.6020114376068113, 6.78375244138607e-05, 0.00022356897989928015, -0.0001653172810871517, -5.896911621094958e-05, -6.625289916994959e-05, 4.27090962729082e-05, 2.5933837890512734e-05, 9.205665588352119e-05], 'AdaDelta': [-0.5489640040526788, -0.06533143283699949, -0.03426354899356762, -0.020990144837399333, -0.01338925959567229, -0.010468468244746329, -0.007347875742365909, -0.005929154632923511, -0.004919980412349104], 'Ranger': [-0.0778819817543903, -0.015298114199069457, -0.006879570055119133, -0.0027683411896896395, 0.005643931404494151, -0.01184491822994499, 0.0019025362269812704, -0.0029948194326241268, 0.0029812410094156375], 'Prodigy': [-0.8167442727557073, -0.03113734378727774, -0.013899256844352927, -0.009578322859480973, -0.005961930432838082, -0.004924074096201606, -0.004553348829162619, -0.0036494992855819856, -0.0023827687676181084], 'NAG': [-0.4223476979551216, -0.03360432398480673, -0.01602065874636173, -0.009506386301759637, -0.00708211622769013, -0.005346841772024831, -0.004124901976808905, -0.003531534887989983, -0.0024734153909608744], 'ProxSG': [-0.48881476572975513, -0.043409616573651624, -0.014974487773453185, -0.010113952301690987, -0.005210879874974483, -0.004601966759810845, -0.002703724756961068, -0.0027494189985096465, -0.0025554896789913364]}"
   ]
  },
  {
   "cell_type": "code",
   "execution_count": 20,
   "metadata": {},
   "outputs": [
    {
     "name": "stdout",
     "output_type": "stream",
     "text": [
      "\n",
      "Training with SVRG optimizer:\n"
     ]
    },
    {
     "name": "stderr",
     "output_type": "stream",
     "text": [
      "Test: 100%|██████████| 94/94 [00:03<00:00, 30.32batch/s]71.60batch/s, loss=0.521] \n",
      "Train Epoch 1: 100%|██████████| 1875/1875 [00:32<00:00, 57.82batch/s, loss=0.521]\n"
     ]
    },
    {
     "name": "stdout",
     "output_type": "stream",
     "text": [
      "[Epoch 1] Loss: 0.929, Validation Accuracy: 92.22 %\n"
     ]
    },
    {
     "name": "stderr",
     "output_type": "stream",
     "text": [
      "Test: 100%|██████████| 94/94 [00:02<00:00, 33.72batch/s]56.97batch/s, loss=0.328]  \n",
      "Train Epoch 2: 100%|██████████| 1875/1875 [00:32<00:00, 58.00batch/s, loss=0.328]\n"
     ]
    },
    {
     "name": "stdout",
     "output_type": "stream",
     "text": [
      "[Epoch 2] Loss: 0.212, Validation Accuracy: 94.83 %\n"
     ]
    },
    {
     "name": "stderr",
     "output_type": "stream",
     "text": [
      "Test: 100%|██████████| 94/94 [00:03<00:00, 30.56batch/s]71.99batch/s, loss=0.117]  \n",
      "Train Epoch 3: 100%|██████████| 1875/1875 [00:31<00:00, 58.72batch/s, loss=0.117]\n"
     ]
    },
    {
     "name": "stdout",
     "output_type": "stream",
     "text": [
      "[Epoch 3] Loss: 0.173, Validation Accuracy: 96.49 %\n"
     ]
    },
    {
     "name": "stderr",
     "output_type": "stream",
     "text": [
      "Test: 100%|██████████| 94/94 [00:02<00:00, 35.53batch/s]70.98batch/s, loss=0.315]  \n",
      "Train Epoch 4: 100%|██████████| 1875/1875 [00:31<00:00, 59.42batch/s, loss=0.315]\n"
     ]
    },
    {
     "name": "stdout",
     "output_type": "stream",
     "text": [
      "[Epoch 4] Loss: 0.128, Validation Accuracy: 97.02 %\n"
     ]
    },
    {
     "name": "stderr",
     "output_type": "stream",
     "text": [
      "Test: 100%|██████████| 94/94 [00:02<00:00, 38.06batch/s]66.45batch/s, loss=0.201]  \n",
      "Train Epoch 5: 100%|██████████| 1875/1875 [00:31<00:00, 59.78batch/s, loss=0.201]\n"
     ]
    },
    {
     "name": "stdout",
     "output_type": "stream",
     "text": [
      "[Epoch 5] Loss: 0.118, Validation Accuracy: 96.57 %\n"
     ]
    },
    {
     "name": "stderr",
     "output_type": "stream",
     "text": [
      "Test: 100%|██████████| 94/94 [00:02<00:00, 38.99batch/s]69.75batch/s, loss=0.0237] \n",
      "Train Epoch 6: 100%|██████████| 1875/1875 [00:31<00:00, 60.12batch/s, loss=0.0237]\n"
     ]
    },
    {
     "name": "stdout",
     "output_type": "stream",
     "text": [
      "[Epoch 6] Loss: 0.111, Validation Accuracy: 97.03 %\n"
     ]
    },
    {
     "name": "stderr",
     "output_type": "stream",
     "text": [
      "Test: 100%|██████████| 94/94 [00:02<00:00, 36.47batch/s]69.37batch/s, loss=0.08]   \n",
      "Train Epoch 7: 100%|██████████| 1875/1875 [00:31<00:00, 59.63batch/s, loss=0.08]\n"
     ]
    },
    {
     "name": "stdout",
     "output_type": "stream",
     "text": [
      "[Epoch 7] Loss: 0.083, Validation Accuracy: 97.72 %\n"
     ]
    },
    {
     "name": "stderr",
     "output_type": "stream",
     "text": [
      "Test: 100%|██████████| 94/94 [00:02<00:00, 34.83batch/s]70.61batch/s, loss=0.0775] \n",
      "Train Epoch 8: 100%|██████████| 1875/1875 [00:30<00:00, 61.83batch/s, loss=0.0775]\n"
     ]
    },
    {
     "name": "stdout",
     "output_type": "stream",
     "text": [
      "[Epoch 8] Loss: 0.084, Validation Accuracy: 97.66 %\n"
     ]
    },
    {
     "name": "stderr",
     "output_type": "stream",
     "text": [
      "Test: 100%|██████████| 94/94 [00:02<00:00, 37.61batch/s]66.19batch/s, loss=0.0372] \n",
      "Train Epoch 9: 100%|██████████| 1875/1875 [00:30<00:00, 61.04batch/s, loss=0.0372]\n"
     ]
    },
    {
     "name": "stdout",
     "output_type": "stream",
     "text": [
      "[Epoch 9] Loss: 0.080, Validation Accuracy: 97.93 %\n"
     ]
    },
    {
     "name": "stderr",
     "output_type": "stream",
     "text": [
      "Test: 100%|██████████| 94/94 [00:02<00:00, 38.63batch/s] 59.92batch/s, loss=0.0762] \n",
      "Train Epoch 10: 100%|██████████| 1875/1875 [00:29<00:00, 63.27batch/s, loss=0.0762]\n"
     ]
    },
    {
     "name": "stdout",
     "output_type": "stream",
     "text": [
      "[Epoch 10] Loss: 0.067, Validation Accuracy: 98.56 %\n"
     ]
    },
    {
     "name": "stderr",
     "output_type": "stream",
     "text": [
      "Test: 100%|██████████| 313/313 [00:02<00:00, 119.41batch/s]"
     ]
    },
    {
     "name": "stdout",
     "output_type": "stream",
     "text": [
      "Accuracy on test set: 98.43 %\n"
     ]
    },
    {
     "name": "stderr",
     "output_type": "stream",
     "text": [
      "\n"
     ]
    }
   ],
   "source": [
    "opt_name = 'SVRG'\n",
    "print(f\"\\nTraining with {opt_name} optimizer:\")\n",
    "model = CNN().to(device)\n",
    "\n",
    "optimizer = SVRG(model.parameters(), lr=0.01)\n",
    "criterion = nn.CrossEntropyLoss()\n",
    "losses = train(model, optimizer, criterion, trainloader, valloader, opt_name, 10)\n",
    "conv_rate = [losses[i] - losses[i-1] for i in range(1, len(losses))]\n",
    "\n",
    "# Load the best model for testing\n",
    "model.load_state_dict(torch.load(f\"best_{opt_name}.pkl\"))\n",
    "accuracy = evaluate(model, 1, testloader)\n",
    "\n",
    "train_loss[opt_name] = losses\n",
    "test_accuracy[opt_name] = accuracy\n",
    "convergence_rate[opt_name] = conv_rate"
   ]
  },
  {
   "cell_type": "code",
   "execution_count": 26,
   "metadata": {},
   "outputs": [
    {
     "name": "stdout",
     "output_type": "stream",
     "text": [
      "train_loss: {'SGD': [0.5149847493459782, 0.11585771384189526, 0.08043871236046156, 0.06496814624331891, 0.05423938889543836, 0.04706040541194379, 0.042102900602078684, 0.03718769552069716, 0.033279643512594825, 0.030962520780942093], 'Adam': [0.3548007835457722, 0.17605250554146867, 0.1584559859863172, 0.1509707493553559, 0.14952125120948379, 0.13557167038122814, 0.1410857055593282, 0.13755558048846822, 0.13230433967593125, 0.1340204933011749], 'RMSProp': [2.9044491924285887, 2.3024377548217774, 2.3025055923461912, 2.3027291613260905, 2.3025638440450034, 2.3025048749287924, 2.3024386220296225, 2.3024813311258954, 2.302507264963786, 2.3025993216196694], 'AdaDelta': [0.7781204207539558, 0.2291564167012771, 0.1638249838642776, 0.12956143487070998, 0.10857129003331065, 0.09518203043763836, 0.08471356219289203, 0.07736568645052612, 0.07143653181760261, 0.0665165514052535], 'Ranger': [0.14260838257526048, 0.06472640082087018, 0.049428286621800724, 0.04254871656668159, 0.03978037537699195, 0.0454243067814861, 0.03357938855154111, 0.03548192477852238, 0.03248710534589826, 0.035468346355313894], 'Prodigy': [0.9126006396993994, 0.09585636694369216, 0.06471902315641442, 0.0508197663120615, 0.041241443452580524, 0.03527951301974244, 0.030355438923540836, 0.025802090094378217, 0.02215259080879623, 0.019769822041178123], 'NAG': [0.5355635120640199, 0.11321581410889824, 0.07961149012409151, 0.06359083137772978, 0.05408444507597014, 0.04700232884828001, 0.04165548707625518, 0.037530585099446276, 0.03399905021145629, 0.03152563482049542], 'ProxSG': [0.6244183901578187, 0.13560362442806362, 0.092194007854412, 0.07721952008095881, 0.06710556777926782, 0.06189468790429334, 0.05729272114448249, 0.054588996387521425, 0.05183957738901178, 0.04928408771002044], 'SVRG': [0.929387934838732, 0.2115275631574293, 0.17278033188184103, 0.12807522103022784, 0.11784652071023981, 0.11080258266491194, 0.08258423973688235, 0.08354269072388609, 0.08039517109238853, 0.06727085726518804]}\n",
      "test_accuracy: {'SGD': 98.89, 'Adam': 96.27, 'RMSProp': 11.35, 'AdaDelta': 98.25, 'Ranger': 98.72, 'Prodigy': 98.89, 'NAG': 98.82, 'ProxSG': 98.49, 'SVRG': 98.43}\n",
      "convergence_rate: {'SGD': [-0.3991270355040829, -0.035419001481433704, -0.015470566117142648, -0.01072875734788055, -0.007178983483494571, -0.004957504809865107, -0.004915205081381525, -0.0039080520081023334, -0.0023171227316527328], 'Adam': [-0.17874827800430354, -0.017596519555151485, -0.0074852366309612894, -0.0014494981458721135, -0.013949580828255648, 0.005514035178100063, -0.0035301250708599796, -0.0052512408125369725, 0.0017161536252436604], 'RMSProp': [-0.6020114376068113, 6.78375244138607e-05, 0.00022356897989928015, -0.0001653172810871517, -5.896911621094958e-05, -6.625289916994959e-05, 4.27090962729082e-05, 2.5933837890512734e-05, 9.205665588352119e-05], 'AdaDelta': [-0.5489640040526788, -0.06533143283699949, -0.03426354899356762, -0.020990144837399333, -0.01338925959567229, -0.010468468244746329, -0.007347875742365909, -0.005929154632923511, -0.004919980412349104], 'Ranger': [-0.0778819817543903, -0.015298114199069457, -0.006879570055119133, -0.0027683411896896395, 0.005643931404494151, -0.01184491822994499, 0.0019025362269812704, -0.0029948194326241268, 0.0029812410094156375], 'Prodigy': [-0.8167442727557073, -0.03113734378727774, -0.013899256844352927, -0.009578322859480973, -0.005961930432838082, -0.004924074096201606, -0.004553348829162619, -0.0036494992855819856, -0.0023827687676181084], 'NAG': [-0.4223476979551216, -0.03360432398480673, -0.01602065874636173, -0.009506386301759637, -0.00708211622769013, -0.005346841772024831, -0.004124901976808905, -0.003531534887989983, -0.0024734153909608744], 'ProxSG': [-0.48881476572975513, -0.043409616573651624, -0.014974487773453185, -0.010113952301690987, -0.005210879874974483, -0.004601966759810845, -0.002703724756961068, -0.0027494189985096465, -0.0025554896789913364], 'SVRG': [-0.7178603716813028, -0.03874723127558827, -0.04470511085161319, -0.01022870031998803, -0.007043938045327866, -0.02821834292802959, 0.0009584509870037422, -0.003147519631497564, -0.013124313827200487]}\n"
     ]
    }
   ],
   "source": [
    "print(f'train_loss: {train_loss}')\n",
    "print(f'test_accuracy: {test_accuracy}')\n",
    "print(f'convergence_rate: {convergence_rate}') "
   ]
  },
  {
   "cell_type": "code",
   "execution_count": 25,
   "metadata": {},
   "outputs": [
    {
     "data": {
      "image/png": "[encoded data removed]",
      "text/plain": [
       "<Figure size 1500x3000 with 3 Axes>"
      ]
     },
     "metadata": {},
     "output_type": "display_data"
    }
   ],
   "source": [
    "optimizer_names = optimizer_names_1 + optimizer_names_2\n",
    "\n",
    "fig, axs = plt.subplots(3, 1, figsize=(15, 30))\n",
    "\n",
    "# Plot losses\n",
    "for opt_name in optimizer_names:\n",
    "    losses = train_loss[opt_name]\n",
    "    axs[0].plot(losses, label=f'{opt_name}')\n",
    "axs[0].set_title('Training Losses')\n",
    "axs[0].set_xlabel('Epoch')\n",
    "axs[0].set_ylabel('Loss')\n",
    "axs[0].legend()\n",
    "\n",
    "# Plot test accuracies\n",
    "for opt_name in optimizer_names:\n",
    "    accuracy = test_accuracy[opt_name]\n",
    "    bar = axs[1].bar(opt_name, accuracy, label=f'{opt_name}')\n",
    "    axs[1].text(bar[0].get_x() + bar[0].get_width() / 2, bar[0].get_height(), f'{accuracy:.2f}%', ha='center', va='bottom')\n",
    "axs[1].set_title('Test Accuracy')\n",
    "axs[1].set_xlabel('Optimizer')\n",
    "axs[1].set_ylabel('Accuracy (%)')\n",
    "axs[1].legend()\n",
    "\n",
    "# Plot convergence rates\n",
    "for opt_name in optimizer_names:\n",
    "    losses = train_loss[opt_name]\n",
    "    convergence_rates = [losses[i] - losses[i-1] for i in range(1, len(losses))]\n",
    "    axs[2].plot(range(1, len(losses)), convergence_rates, label=f'{opt_name}')\n",
    "axs[2].set_title('Convergence Rate')\n",
    "axs[2].set_xlabel('Epoch')\n",
    "axs[2].set_ylabel('Convergence Rate')\n",
    "axs[2].legend()\n",
    "\n",
    "plt.tight_layout()\n",
    "plt.show()"
   ]
  },
  {
   "cell_type": "code",
   "execution_count": null,
   "metadata": {},
   "outputs": [],
   "source": []
  }
 ],
 "metadata": {
  "kernelspec": {
   "display_name": "computer-vision",
   "language": "python",
   "name": "python3"
  },
  "language_info": {
   "codemirror_mode": {
    "name": "ipython",
    "version": 3
   },
   "file_extension": ".py",
   "mimetype": "text/x-python",
   "name": "python",
   "nbconvert_exporter": "python",
   "pygments_lexer": "ipython3",
   "version": "3.9.12"
  }
 },
 "nbformat": 4,
 "nbformat_minor": 2
}
